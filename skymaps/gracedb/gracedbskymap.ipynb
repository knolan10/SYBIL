{
 "cells": [
  {
   "cell_type": "code",
   "execution_count": 10,
   "metadata": {},
   "outputs": [],
   "source": [
    "import matplotlib.pyplot as plt\n",
    "from io import BytesIO\n",
    "import xmltodict\n",
    "import requests\n",
    "from astropy.table import Table\n",
    "import astropy.io.fits as fits\n",
    "\n",
    "from ligo.gracedb.rest import GraceDb\n",
    "g = GraceDb()"
   ]
  },
  {
   "cell_type": "markdown",
   "metadata": {},
   "source": [
    "# O4a events\n",
    "\n",
    "options to get all significant O4a mergers, or the 5 mergers considered in O4a paper"
   ]
  },
  {
   "cell_type": "code",
   "execution_count": 3,
   "metadata": {},
   "outputs": [
    {
     "name": "stdout",
     "output_type": "stream",
     "text": [
      "89 significant superevents in O4a\n"
     ]
    }
   ],
   "source": [
    "# use gracedb api call to get O4a significant superevents, but some of these have been retracted.\n",
    "\n",
    "event_iterator = g.superevents('runid: O4a SIGNIF_LOCKED')\n",
    "graceids = [superevent['superevent_id'] for superevent in event_iterator]\n",
    "\n",
    "print (len(graceids), 'significant superevents in O4a')"
   ]
  },
  {
   "cell_type": "code",
   "execution_count": 4,
   "metadata": {},
   "outputs": [],
   "source": [
    "responses = [g.superevent(id) for id in graceids]\n",
    "data = [r.json() for r in responses]"
   ]
  },
  {
   "cell_type": "code",
   "execution_count": 14,
   "metadata": {},
   "outputs": [],
   "source": [
    "def get_gcn_urls (ids, files):\n",
    "    \"\"\"\n",
    "    remove retracted events\n",
    "    get the most recent file for each superevent\n",
    "    \"\"\" \n",
    "\n",
    "    superevent_files = [i['links']['files'] for i in files]\n",
    "\n",
    "    event_files = [g.files(graceid).json() for graceid in ids]\n",
    "\n",
    "    file = ['none' if any('etraction' in s for s in list(files))\n",
    "            else id+'-5-Update.xml,0' if id+'-5-Update.xml,0' in list(files)\n",
    "            else id+'-5-Update.xml' if id+'-5-Update.xml' in list(files)\n",
    "            else id+'-4-Update.xml,0' if id+'-4-Update.xml,0' in list(files)\n",
    "            else id+'-4-Update.xml' if id+'-4-Update.xml' in list(files)\n",
    "            else id+'-3-Update.xml,0' if id+'-3-Update.xml,0' in list(files)\n",
    "            else id+'-2-Update.xml,0' if id+'-2-Update.xml,0' in list(files)\n",
    "            else id+'-4-Initial.xml,0' if id+'-4-Initial.xml,0' in list(files) \n",
    "            else id+'-3-Initial.xml,0' if id+'-3-Initial.xml,0' in list(files)\n",
    "            else id+'-2-Initial.xml,0' if id+'-2-Initial.xml,0' in list(files)\n",
    "            else id+'-2-Preliminary.xml,0' if id+'-2-Preliminary.xml,0' in list(files)\n",
    "            else 'none' for files, id in zip(event_files, graceids)]\n",
    "\n",
    "    urls = [i+j for i,j in zip(superevent_files, file)]\n",
    "\n",
    "    [print(x) for x in urls if \"none\" in x]\n",
    "    urls_save = [x for x in urls if \"none\" not in x]\n",
    "    \n",
    "    return(urls_save)\n",
    "\n",
    "def get_params(xml_urls):\n",
    "    \"\"\"\n",
    "    get superevent_id and skymap from event files\n",
    "    \"\"\"\n",
    "\n",
    "    try:\n",
    "        response = requests.get(xml_urls)\n",
    "        dict=xmltodict.parse(response.text)\n",
    "        superevent_id  = [item['@value'] for item in dict['voe:VOEvent']['What']['Param'] if item.get('@name') == 'GraceID'][0]\n",
    "        skymap_url = [item['Param']['@value'] for item in dict['voe:VOEvent']['What']['Group'] if item.get('@name') == 'GW_SKYMAP'][0]\n",
    "        classification = [item for item in dict['voe:VOEvent']['What']['Group'] if item.get('@name') == 'Classification']\n",
    "        prob_bns = float([item['@value'] for item in classification[0]['Param'] if item.get('@name') == 'BNS'][0])  \n",
    "        prob_nsbh = float([item['@value'] for item in classification[0]['Param'] if item.get('@name') == 'NSBH'][0])  \n",
    "        skymap_response = requests.get(skymap_url)\n",
    "        skymap_bytes = BytesIO(skymap_response.content)\n",
    "        return superevent_id, skymap_bytes, prob_bns, prob_nsbh\n",
    "    \n",
    "    except:\n",
    "        print (xml_urls)"
   ]
  },
  {
   "cell_type": "code",
   "execution_count": 7,
   "metadata": {},
   "outputs": [
    {
     "name": "stdout",
     "output_type": "stream",
     "text": [
      "https://gracedb.ligo.org/api/superevents/S231112ag/files/none\n",
      "https://gracedb.ligo.org/api/superevents/S230830b/files/none\n",
      "https://gracedb.ligo.org/api/superevents/S230808i/files/none\n",
      "https://gracedb.ligo.org/api/superevents/S230715bw/files/none\n",
      "https://gracedb.ligo.org/api/superevents/S230712a/files/none\n",
      "https://gracedb.ligo.org/api/superevents/S230708bi/files/none\n",
      "https://gracedb.ligo.org/api/superevents/S230622ba/files/none\n"
     ]
    }
   ],
   "source": [
    "#the printed urls are retracted events or my function failed to get the correct file\n",
    "\n",
    "gcn_urls = get_gcn_urls (graceids, data)"
   ]
  },
  {
   "cell_type": "code",
   "execution_count": 8,
   "metadata": {},
   "outputs": [],
   "source": [
    "#returns event id, skymap bytes, skymap table, prob bns, prob nsbh    \n",
    "\n",
    "params = [get_params(url) for url in gcn_urls]"
   ]
  },
  {
   "cell_type": "code",
   "execution_count": 9,
   "metadata": {},
   "outputs": [
    {
     "name": "stdout",
     "output_type": "stream",
     "text": [
      "3 events with prob > 0.1 for NSBH + BNS: ['S230731an', 'S230627c', 'S230529ay']\n"
     ]
    }
   ],
   "source": [
    "# get subset of mergers that are potential BNS or NSBH\n",
    "\n",
    "ns_events = [i for i in params if i[2] + i[3] > 0.1]\n",
    "ids = [i[0] for i in ns_events] \n",
    "print(f'{len(ns_events)} events with prob > 0.1 for NSBH + BNS: {ids}') "
   ]
  },
  {
   "cell_type": "code",
   "execution_count": 13,
   "metadata": {},
   "outputs": [],
   "source": [
    "# save fits files\n",
    "\n",
    "for event in ns_events:\n",
    "    with fits.open(event[1]) as hdul:\n",
    "        hdul.writeto(f'{event[0]}.fits', overwrite=True)"
   ]
  },
  {
   "cell_type": "code",
   "execution_count": 15,
   "metadata": {},
   "outputs": [],
   "source": [
    "# mergers triggered on in the O4a paper (https://arxiv.org/abs/2405.12403)\n",
    "\n",
    "O4a_urls = ['https://gracedb.ligo.org/api/superevents/S230518h/files/S230518h-4-Update.xml,0',\n",
    "            'https://gracedb.ligo.org/api/superevents/S230529ay/files/S230529ay-5-Update.xml,0',\n",
    "            'https://gracedb.ligo.org/api/superevents/S230627c/files/S230627c-4-Update.xml,0',\n",
    "            'https://gracedb.ligo.org/api/superevents/S230731an/files/S230731an-4-Update.xml,0',\n",
    "            'https://gracedb.ligo.org/api/superevents/S231113bw/files/S231113bw-4-Update.xml,0',\n",
    "            ]"
   ]
  },
  {
   "cell_type": "code",
   "execution_count": 16,
   "metadata": {},
   "outputs": [],
   "source": [
    "O4a_events = [get_params(url) for url in O4a_urls]"
   ]
  },
  {
   "cell_type": "code",
   "execution_count": 17,
   "metadata": {},
   "outputs": [],
   "source": [
    "for event in O4a_events:\n",
    "    with fits.open(event[1]) as hdul:\n",
    "        hdul.writeto(f'{event[0]}.fits', overwrite=True)"
   ]
  }
 ],
 "metadata": {
  "kernelspec": {
   "display_name": "Python 3",
   "language": "python",
   "name": "python3"
  },
  "language_info": {
   "codemirror_mode": {
    "name": "ipython",
    "version": 3
   },
   "file_extension": ".py",
   "mimetype": "text/x-python",
   "name": "python",
   "nbconvert_exporter": "python",
   "pygments_lexer": "ipython3",
   "version": "3.12.3"
  }
 },
 "nbformat": 4,
 "nbformat_minor": 2
}
