{
 "cells": [
  {
   "cell_type": "markdown",
   "metadata": {},
   "source": [
    "# Get transients given a skymap\n",
    "\n",
    "- Calculate skymap volume. Calculate the fraction of total surface area covered by a given voxel (skymap volume pixel), and multiply that fraction by the volume of a sphere with radius 1000 Mpc\n",
    "\n",
    "- Use rates from literature to draw a sample of transients given the skymap volume\n",
    "\n",
    "\n",
    "to do - \n",
    "\n",
    "add : poisson sampled distribution\n",
    "\n",
    "work in redshift not dl ?\n",
    "\n",
    "use galactic latitude (cvs)"
   ]
  },
  {
   "cell_type": "code",
   "execution_count": 11,
   "metadata": {},
   "outputs": [],
   "source": [
    "import numpy as np\n",
    "import matplotlib.pyplot as plt\n",
    "import healpy as hp\n",
    "from io import BytesIO\n",
    "import xmltodict\n",
    "import requests\n",
    "import os\n",
    "\n",
    "from astropy.table import Table\n",
    "from astropy.table import QTable\n",
    "from astropy.io import fits\n",
    "import astropy_healpix as ah\n",
    "import astropy.units as u\n",
    "from ligo.skymap.io import read_sky_map\n",
    "from ligo.skymap.postprocess.cosmology import dVC_dVL_for_DL\n",
    "from astropy.cosmology import Planck15 as cosmo, z_at_value\n",
    "\n",
    "from ligo.gracedb.rest import GraceDb\n",
    "g = GraceDb()"
   ]
  },
  {
   "cell_type": "code",
   "execution_count": 23,
   "metadata": {},
   "outputs": [],
   "source": [
    "# load skymaps from local directory\n",
    "\n",
    "def load_skymap_fits(filename, directory):\n",
    "    filepath = os.path.join(directory, filename)\n",
    "    with fits.open(filepath) as hdul:\n",
    "        table = Table.read(hdul)\n",
    "        return table\n",
    "    \n",
    "# load simulated skymaps    \n",
    "directory = 'skymaps/nsbh_allsky/'\n",
    "skymap_sim = [load_skymap_fits(file, directory) for file in os.listdir(directory) if file.endswith('.fits')]\n",
    "names_sim = [os.path.splitext(file)[0] for file in os.listdir(directory) if file.endswith('.fits')]\n",
    "\n",
    "# load gracedb skymaps\n",
    "directory = 'skymaps/gracedb/'\n",
    "skymap_gracedb = [load_skymap_fits(file, directory) for file in os.listdir(directory) if file.endswith('.fits')]\n",
    "names_gracedb = [os.path.splitext(file)[0] for file in os.listdir(directory) if file.endswith('.fits')]"
   ]
  },
  {
   "cell_type": "code",
   "execution_count": 20,
   "metadata": {},
   "outputs": [],
   "source": [
    "# adapted from https://github.com/lpsinger/ligo.skymap/blob/a8da314dcb078f7866f4178cbd523b9844cceae0/ligo/skymap/postprocess/crossmatch.py\n",
    "\n",
    "def get_skymap_voxels(skymap, name, contour=0.9, cosmology=True):\n",
    "    \"\"\"\n",
    "    Determine the volume per pixel in the 90% region of a skymap\n",
    "    This volume is associated with a sky position and can be used with positionally nonuniform rates\n",
    "    \"\"\"\n",
    "    # get specified countour of skymap, drop other pixels\n",
    "    skymap.sort('PROBDENSITY', reverse = True)\n",
    "    level, ipix = ah.uniq_to_level_ipix(skymap['UNIQ']) # ipix = sky location\n",
    "    nside = ah.level_to_nside(level) # nside = multi-order pixel resolution\n",
    "    pixel_area = ah.nside_to_pixel_area(ah.level_to_nside(level)) # pixel area in steradians\n",
    "    prob = pixel_area * skymap['PROBDENSITY']\n",
    "    cumprob = np.cumsum(prob)\n",
    "    i = cumprob.searchsorted(contour)\n",
    "    dA_sr = pixel_area[:i]\n",
    "\n",
    "    # Calculate volume of each voxel, defined as the region within the\n",
    "    # HEALPix pixel and contained within the two centric spherical shells\n",
    "    # with radii (r - d_r / 2) and (r + d_r / 2).\n",
    "    # dA_deg = dA_sr.to_value(u.deg**2) #areas in deg**2 per pixel for only pixels in countour\n",
    "    # r = 500 #mpc\n",
    "    # d_r = 1000 #mpc\n",
    "    # dV = (np.square(r) + np.square(d_r) / 12) * d_r * dA_deg.reshape(-1, 1) #naive euclidean volume from LIGO code\n",
    "\n",
    "    # replacing above with my own Voxel - multiply volume of sphere radius 1000Mpc by fraction of pixel steradians / 4pi steradians in a sphere\n",
    "    r = 1000 #Mpc\n",
    "    dV = 4/3 * np.pi * r**3 * dA_sr.reshape(-1, 1)/(4 * np.pi * u.sr) #euclidean volume\n",
    "\n",
    "    # convert euclidean to comving volume\n",
    "    if cosmology:\n",
    "        dV *= dVC_dVL_for_DL(r)\n",
    "    \n",
    "    V = np.sum(dV)\n",
    "\n",
    "    print(f'{name} has total volume: {V} Mpc3') \n",
    "\n",
    "    return V, dV"
   ]
  },
  {
   "cell_type": "code",
   "execution_count": 24,
   "metadata": {},
   "outputs": [
    {
     "name": "stdout",
     "output_type": "stream",
     "text": [
      "S230518h has total volume: 23146839.76344147 Mpc3\n",
      "S230731an has total volume: 30102502.05441636 Mpc3\n",
      "S231113bw has total volume: 86159440.48744766 Mpc3\n",
      "S230529ay has total volume: 1234160364.733098 Mpc3\n",
      "S230627c has total volume: 4097930.0219590287 Mpc3\n"
     ]
    }
   ],
   "source": [
    "voxels_gracedb = [get_skymap_voxels(data, name) for data,name in zip(skymap_gracedb, names_gracedb)]"
   ]
  },
  {
   "cell_type": "code",
   "execution_count": 25,
   "metadata": {},
   "outputs": [
    {
     "name": "stdout",
     "output_type": "stream",
     "text": [
      "S230518h has total volume: 46722498.16435014 Mpc3\n",
      "S230731an has total volume: 60762683.431247875 Mpc3\n",
      "S231113bw has total volume: 173915071.8265345 Mpc3\n",
      "S230529ay has total volume: 2491184799.5262804 Mpc3\n",
      "S230627c has total volume: 8271778.34578611 Mpc3\n"
     ]
    }
   ],
   "source": [
    "# check euclidean volumes to validate assumption comoving volume is necessary at these redshifts\n",
    "\n",
    "voxels__gracedb_euc = [get_skymap_voxels(data, name, cosmology=False) for data,name in zip(skymap_gracedb, names_gracedb)]"
   ]
  },
  {
   "cell_type": "code",
   "execution_count": 26,
   "metadata": {},
   "outputs": [
    {
     "name": "stdout",
     "output_type": "stream",
     "text": [
      "14 has total volume: 353968271.0017204 Mpc3\n",
      "60 has total volume: 10364886.752256963 Mpc3\n"
     ]
    }
   ],
   "source": [
    "voxels_sim = [get_skymap_voxels(data, name) for data,name in zip(skymap_sim, names_sim)]"
   ]
  },
  {
   "cell_type": "code",
   "execution_count": 44,
   "metadata": {},
   "outputs": [],
   "source": [
    "# combine event info to more easily access\n",
    "\n",
    "events_gracedb = [[name, skymap, voxel] for name, skymap, voxel in zip(names_gracedb, skymap_gracedb, voxels_gracedb)]\n",
    "events_sim = [[name, skymap, voxel] for name, skymap, voxel in zip(names_sim, skymap_sim, voxels_sim)]"
   ]
  },
  {
   "cell_type": "markdown",
   "metadata": {},
   "source": [
    "# get rates from volumes"
   ]
  },
  {
   "cell_type": "code",
   "execution_count": 36,
   "metadata": {},
   "outputs": [],
   "source": [
    "transient_rates = {\n",
    "    'SNIa': 2.35e4,  # per Gpc^3 per year\n",
    "    'CCSN': 1.01e5,\n",
    "    'SLSN': 5.6,\n",
    "    'KN': 5e3,\n",
    "    'GRB_on_axis': 1,\n",
    "    'GRB_off_axis': 7,\n",
    "    'CV': 1e6,  # Use a refined rate near the galactic plane\n",
    "}"
   ]
  },
  {
   "cell_type": "code",
   "execution_count": 65,
   "metadata": {},
   "outputs": [],
   "source": [
    "# probability density function for radii of events evenly distributed in sphere\n",
    "def pdf_radii(num_events, sphere_radius = 1000):\n",
    "    \"\"\"\n",
    "    Sample radii for events evenly distributed in a sphere.\n",
    "    \"\"\"\n",
    "    u = np.random.uniform(0, 1, num_events)\n",
    "    radii = sphere_radius * np.cbrt(u)  # Inverse transform sampling for r^2 PDF\n",
    "    return radii\n",
    "\n",
    "# get ras and decs\n",
    "def random_ra_dec_skymap(num_events, skymap, contour=0.9):\n",
    "    \"\"\"\n",
    "    Given skymap and number of events, return random ra, dec positions in 90% region\n",
    "    \"\"\"\n",
    "    skymap.sort('PROBDENSITY', reverse = True)\n",
    "    level, ipix = ah.uniq_to_level_ipix(skymap['UNIQ']) # ipix = sky location\n",
    "    nside = ah.level_to_nside(level) # nside = multi-order pixel resolution\n",
    "    pixel_area = ah.nside_to_pixel_area(ah.level_to_nside(level)) # pixel area in steradians\n",
    "    prob = pixel_area * skymap['PROBDENSITY']\n",
    "    cumprob = np.cumsum(prob)\n",
    "    i = cumprob.searchsorted(contour)\n",
    "\n",
    "    #get ra and dec in degrees associated with each pixel\n",
    "    # fix this, temporarily only taking discrete ra and dec associated with each pixel\n",
    "    ra, dec = ah.healpix_to_lonlat(ipix[:i], nside[:i])\n",
    "    skymap_ra_deg = [r.deg for r in ra]\n",
    "    skymap_dec_deg = [d.deg for d in dec]\n",
    "    ras = np.random.choice(skymap_ra_deg, num_events)\n",
    "    decs = np.random.choice(skymap_dec_deg, num_events)\n",
    "    return ras, decs\n",
    "\n",
    "# get rates for each transient given a skymap\n",
    "def get_rates(literature_rates, voxel, name, time_window=7, verbose=True):\n",
    "    num_events = []\n",
    "    volume = voxel[0] * 10**-9 # convert to Gpc^3\n",
    "    for transient, rate in literature_rates.items():\n",
    "        events = rate * volume * time_window / 365.25\n",
    "        num_events.append(float(events))\n",
    "    if verbose:\n",
    "        print(name)\n",
    "        for item1, item2 in zip(list(literature_rates.keys()), num_events):\n",
    "            print(f\"{item1} : {item2}\")\n",
    "    return num_events"
   ]
  },
  {
   "cell_type": "code",
   "execution_count": 66,
   "metadata": {},
   "outputs": [
    {
     "name": "stdout",
     "output_type": "stream",
     "text": [
      "S230518h\n",
      "SNIa : 10.424791625150231\n",
      "CCSN : 44.80442358043291\n",
      "SLSN : 0.0024842056638655872\n",
      "KN : 2.21804077130856\n",
      "GRB_on_axis : 0.000443608154261712\n",
      "GRB_off_axis : 0.003105257079831984\n",
      "CV : 443.608154261712\n",
      "S230731an\n",
      "SNIa : 13.55745814634221\n",
      "CCSN : 58.26822437364098\n",
      "SLSN : 0.0032307134306177173\n",
      "KN : 2.884565563051534\n",
      "GRB_on_axis : 0.0005769131126103067\n",
      "GRB_off_axis : 0.004038391788272147\n",
      "CV : 576.9131126103067\n",
      "S231113bw\n",
      "SNIa : 38.8041833269956\n",
      "CCSN : 166.77542621389597\n",
      "SLSN : 0.009246954324730865\n",
      "KN : 8.256209218509701\n",
      "GRB_on_axis : 0.00165124184370194\n",
      "GRB_off_axis : 0.01155869290591358\n",
      "CV : 1651.2418437019405\n",
      "S230529ay\n",
      "SNIa : 555.8367693322235\n",
      "CCSN : 2388.9154767044497\n",
      "SLSN : 0.13245471950044474\n",
      "KN : 118.26314241111139\n",
      "GRB_on_axis : 0.023652628482222278\n",
      "GRB_off_axis : 0.16556839937555595\n",
      "CV : 23652.628482222277\n",
      "S230627c\n",
      "SNIa : 1.845611194010295\n",
      "CCSN : 7.932201301916587\n",
      "SLSN : 0.0004398052207003256\n",
      "KN : 0.3926832327681478\n",
      "GRB_on_axis : 7.853664655362957e-05\n",
      "GRB_off_axis : 0.000549756525875407\n",
      "CV : 78.53664655362957\n"
     ]
    }
   ],
   "source": [
    "rates_gracedb = [get_rates(transient_rates, voxel=event[2], name=event[0], time_window=7) for event in events_gracedb]"
   ]
  },
  {
   "cell_type": "code",
   "execution_count": 67,
   "metadata": {},
   "outputs": [
    {
     "name": "stdout",
     "output_type": "stream",
     "text": [
      "14\n",
      "SNIa : 159.4189748933142\n",
      "CCSN : 685.1624027329674\n",
      "SLSN : 0.03798920252776849\n",
      "KN : 33.91893082836472\n",
      "GRB_on_axis : 0.006783786165672944\n",
      "GRB_off_axis : 0.04748650315971061\n",
      "CV : 6783.786165672946\n",
      "60\n",
      "SNIa : 4.668100946601698\n",
      "CCSN : 20.062901940713687\n",
      "SLSN : 0.0011123985234455112\n",
      "KN : 0.9932129673620635\n",
      "GRB_on_axis : 0.0001986425934724127\n",
      "GRB_off_axis : 0.0013904981543068889\n",
      "CV : 198.64259347241273\n"
     ]
    }
   ],
   "source": [
    "rates_sim = [get_rates(transient_rates, voxel=event[2], name=event[0], time_window=7) for event in events_sim]"
   ]
  },
  {
   "cell_type": "code",
   "execution_count": 69,
   "metadata": {},
   "outputs": [],
   "source": [
    "def get_transients(literature_rates,event,time_window=7):\n",
    "    \"\"\"\n",
    "    get sample of transients \n",
    "    \n",
    "    Parameters:\n",
    "    transient_rates: dictionary of transient types and rates in Gpc^3 / year\n",
    "    voxels: list of tuples containing volume, volume per pixel, ra, dec for a given skymap\n",
    "    skymap: table containing skymap data\n",
    "    time_window: time window in days to calculate expected transients\n",
    "\n",
    "    returns: \n",
    "    number of expected transients for each transient type, with sampled ra, dec, and distance (change this to redshift)\n",
    "    \"\"\"\n",
    "\n",
    "    # get number of events for each transient type  \n",
    "    voxel=event[2]\n",
    "    name=event[0]\n",
    "    num_events = get_rates(literature_rates, voxel=voxel, name=name, time_window=time_window, verbose=False)\n",
    "    \n",
    "    #replace this with poisson sampling\n",
    "    int_events = [round(num) for num in num_events]\n",
    "\n",
    "    # sample ra and dec for each transients types\n",
    "    skymap=event[1]\n",
    "    radec = [random_ra_dec_skymap(num, skymap) for num in int_events]\n",
    "\n",
    "    # get distances in Mpc from sphere with radius 1000Mpc\n",
    "    dists = [pdf_radii(num) for num in int_events]\n",
    "    \n",
    "    return(num_events, radec, dists)"
   ]
  },
  {
   "cell_type": "code",
   "execution_count": 70,
   "metadata": {},
   "outputs": [],
   "source": [
    "# test with one gracedb event\n",
    "\n",
    "gracedb_test = get_transients(transient_rates, events_gracedb[0])"
   ]
  },
  {
   "cell_type": "code",
   "execution_count": 73,
   "metadata": {},
   "outputs": [],
   "source": [
    "# test with one simulated event\n",
    "\n",
    "gracedb_test = get_transients(transient_rates, events_sim[0])"
   ]
  }
 ],
 "metadata": {
  "kernelspec": {
   "display_name": "astroenv",
   "language": "python",
   "name": "python3"
  },
  "language_info": {
   "codemirror_mode": {
    "name": "ipython",
    "version": 3
   },
   "file_extension": ".py",
   "mimetype": "text/x-python",
   "name": "python",
   "nbconvert_exporter": "python",
   "pygments_lexer": "ipython3",
   "version": "3.12.3"
  }
 },
 "nbformat": 4,
 "nbformat_minor": 2
}
