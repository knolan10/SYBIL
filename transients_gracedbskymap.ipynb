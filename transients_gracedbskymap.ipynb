{
 "cells": [
  {
   "cell_type": "code",
   "execution_count": 1,
   "metadata": {},
   "outputs": [],
   "source": [
    "import numpy as np\n",
    "import matplotlib.pyplot as plt\n",
    "import healpy as hp\n",
    "from io import BytesIO\n",
    "import xmltodict\n",
    "import requests\n",
    "import warnings\n",
    "warnings.filterwarnings(\"ignore\", \"Wswiglal-redir-stdio\")\n",
    "\n",
    "from astropy.table import Table\n",
    "from astropy.table import QTable\n",
    "import astropy_healpix as ah\n",
    "import astropy.units as u\n",
    "from ligo.skymap.io import read_sky_map\n",
    "from ligo.skymap.postprocess.cosmology import dVC_dVL_for_DL\n",
    "from astropy.cosmology import Planck15 as cosmo, z_at_value\n",
    "\n",
    "from ligo.gracedb.rest import GraceDb\n",
    "g = GraceDb()"
   ]
  },
  {
   "cell_type": "markdown",
   "metadata": {},
   "source": [
    "# O4a events\n",
    "\n",
    "options to get all significan O4a mergers, or the 5 mergers considered in O4a paper"
   ]
  },
  {
   "cell_type": "code",
   "execution_count": 4,
   "metadata": {},
   "outputs": [
    {
     "name": "stdout",
     "output_type": "stream",
     "text": [
      "89 significant superevents in O4a\n"
     ]
    }
   ],
   "source": [
    "# use gracedb api call to get O4a significant superevents, but some of these have been retracted.\n",
    "\n",
    "event_iterator = g.superevents('runid: O4a SIGNIF_LOCKED')\n",
    "graceids = [superevent['superevent_id'] for superevent in event_iterator]\n",
    "\n",
    "print (len(graceids), 'significant superevents in O4a')"
   ]
  },
  {
   "cell_type": "code",
   "execution_count": 5,
   "metadata": {},
   "outputs": [],
   "source": [
    "responses = [g.superevent(id) for id in graceids]\n",
    "data = [r.json() for r in responses]"
   ]
  },
  {
   "cell_type": "code",
   "execution_count": 2,
   "metadata": {},
   "outputs": [],
   "source": [
    "def get_gcn_urls (ids, files):\n",
    "    \"\"\"\n",
    "    remove retracted events\n",
    "    get the most recent file for each superevent\n",
    "    \"\"\" \n",
    "\n",
    "    superevent_files = [i['links']['files'] for i in files]\n",
    "\n",
    "    event_files = [g.files(graceid).json() for graceid in ids]\n",
    "\n",
    "    file = ['none' if any('etraction' in s for s in list(files))\n",
    "            else id+'-5-Update.xml,0' if id+'-5-Update.xml,0' in list(files)\n",
    "            else id+'-5-Update.xml' if id+'-5-Update.xml' in list(files)\n",
    "            else id+'-4-Update.xml,0' if id+'-4-Update.xml,0' in list(files)\n",
    "            else id+'-4-Update.xml' if id+'-4-Update.xml' in list(files)\n",
    "            else id+'-3-Update.xml,0' if id+'-3-Update.xml,0' in list(files)\n",
    "            else id+'-2-Update.xml,0' if id+'-2-Update.xml,0' in list(files)\n",
    "            else id+'-4-Initial.xml,0' if id+'-4-Initial.xml,0' in list(files) \n",
    "            else id+'-3-Initial.xml,0' if id+'-3-Initial.xml,0' in list(files)\n",
    "            else id+'-2-Initial.xml,0' if id+'-2-Initial.xml,0' in list(files)\n",
    "            else id+'-2-Preliminary.xml,0' if id+'-2-Preliminary.xml,0' in list(files)\n",
    "            else 'none' for files, id in zip(event_files, graceids)]\n",
    "\n",
    "    urls = [i+j for i,j in zip(superevent_files, file)]\n",
    "\n",
    "    [print(x) for x in urls if \"none\" in x]\n",
    "    urls_save = [x for x in urls if \"none\" not in x]\n",
    "    \n",
    "    return(urls_save)\n",
    "\n",
    "def get_params(xml_urls):\n",
    "    \"\"\"\n",
    "    get superevent_id and skymap from event files\n",
    "    \"\"\"\n",
    "\n",
    "    try:\n",
    "        response = requests.get(xml_urls)\n",
    "        dict=xmltodict.parse(response.text)\n",
    "        superevent_id  = [item['@value'] for item in dict['voe:VOEvent']['What']['Param'] if item.get('@name') == 'GraceID'][0]\n",
    "        skymap_url = [item['Param']['@value'] for item in dict['voe:VOEvent']['What']['Group'] if item.get('@name') == 'GW_SKYMAP'][0]\n",
    "        classification = [item for item in dict['voe:VOEvent']['What']['Group'] if item.get('@name') == 'Classification']\n",
    "        prob_bns = float([item['@value'] for item in classification[0]['Param'] if item.get('@name') == 'BNS'][0])  \n",
    "        prob_nsbh = float([item['@value'] for item in classification[0]['Param'] if item.get('@name') == 'NSBH'][0])  \n",
    "        skymap_response = requests.get(skymap_url)\n",
    "        skymap_bytes = skymap_response.content\n",
    "        skymap = Table.read(BytesIO(skymap_bytes))\n",
    "        return superevent_id, skymap_bytes, skymap, prob_bns, prob_nsbh\n",
    "    \n",
    "    except:\n",
    "        print (xml_urls)"
   ]
  },
  {
   "cell_type": "code",
   "execution_count": 7,
   "metadata": {},
   "outputs": [
    {
     "name": "stdout",
     "output_type": "stream",
     "text": [
      "https://gracedb.ligo.org/api/superevents/S231112ag/files/none\n",
      "https://gracedb.ligo.org/api/superevents/S230830b/files/none\n",
      "https://gracedb.ligo.org/api/superevents/S230808i/files/none\n",
      "https://gracedb.ligo.org/api/superevents/S230715bw/files/none\n",
      "https://gracedb.ligo.org/api/superevents/S230712a/files/none\n",
      "https://gracedb.ligo.org/api/superevents/S230708bi/files/none\n",
      "https://gracedb.ligo.org/api/superevents/S230622ba/files/none\n"
     ]
    }
   ],
   "source": [
    "#the printed urls are retracted events or my function failed to get the correct file\n",
    "\n",
    "gcn_urls = get_gcn_urls (graceids, data)"
   ]
  },
  {
   "cell_type": "code",
   "execution_count": null,
   "metadata": {},
   "outputs": [],
   "source": [
    "#returns event id, skymap bytes, skymap table, prob bns, prob nsbh    \n",
    "\n",
    "params = [get_params(url) for url in gcn_urls]"
   ]
  },
  {
   "cell_type": "code",
   "execution_count": 9,
   "metadata": {},
   "outputs": [
    {
     "name": "stdout",
     "output_type": "stream",
     "text": [
      "3 events with prob > 0.1 for NSBH or BNS: ['S230731an', 'S230627c', 'S230529ay']\n"
     ]
    }
   ],
   "source": [
    "# get subset of mergers that are potential BNS or NSBH\n",
    "\n",
    "ns_events = [i for i in params if i[3] + i[4] > 0.1]\n",
    "ids = [i[0] for i in ns_events] \n",
    "print(f'{len(ns_events)} events with prob > 0.1 for NSBH or BNS: {ids}') "
   ]
  },
  {
   "cell_type": "code",
   "execution_count": 3,
   "metadata": {},
   "outputs": [],
   "source": [
    "# mergers triggered on in the O4a paper (https://arxiv.org/abs/2405.12403)\n",
    "\n",
    "O4a_urls = ['https://gracedb.ligo.org/api/superevents/S230518h/files/S230518h-4-Update.xml,0',\n",
    "            'https://gracedb.ligo.org/api/superevents/S230529ay/files/S230529ay-5-Update.xml,0',\n",
    "            'https://gracedb.ligo.org/api/superevents/S230627c/files/S230627c-4-Update.xml,0',\n",
    "            'https://gracedb.ligo.org/api/superevents/S230731an/files/S230731an-4-Update.xml,0',\n",
    "            'https://gracedb.ligo.org/api/superevents/S231113bw/files/S231113bw-4-Update.xml,0',\n",
    "            ]"
   ]
  },
  {
   "cell_type": "code",
   "execution_count": 4,
   "metadata": {},
   "outputs": [],
   "source": [
    "O4a_params = [get_params(url) for url in O4a_urls]"
   ]
  },
  {
   "cell_type": "markdown",
   "metadata": {},
   "source": [
    "# natalya's rates calculation"
   ]
  },
  {
   "cell_type": "code",
   "execution_count": 40,
   "metadata": {},
   "outputs": [],
   "source": [
    "def calculate_sky_area_90_percent(skymap, skymap_bytes, target_probability=0.1):\n",
    "    m, meta = read_sky_map(skymap_bytes)\n",
    "    #skymap = Table.read(skymap_file)\n",
    "    \n",
    "    nside = meta.get('nside', hp.get_nside(m))\n",
    "    \n",
    "    sorted_indices = np.argsort(m)[::-1]\n",
    "    sorted_prob_density = m[sorted_indices]\n",
    "    cumulative_prob = np.cumsum(sorted_prob_density)\n",
    "    \n",
    "    index_target_percent = np.where(cumulative_prob >= target_probability)[0][0]\n",
    "    pixels_in_target_percent = sorted_indices[:index_target_percent+1]\n",
    "    \n",
    "    theta, phi = hp.pix2ang(nside, pixels_in_target_percent)\n",
    "    ra_deg = np.degrees(phi)\n",
    "    dec_deg = np.degrees(0.5 * np.pi - theta)\n",
    "    \n",
    "    uniq_values = skymap['UNIQ']\n",
    "    \n",
    "    level, ipix = ah.uniq_to_level_ipix(uniq_values)\n",
    "    nside_sky = ah.level_to_nside(level)\n",
    "    ra_sky, dec_sky = ah.healpix_to_lonlat(ipix, nside_sky, order='nested')\n",
    "    \n",
    "    matched_indices = []\n",
    "    for ra, dec in zip(ra_deg, dec_deg):\n",
    "        matched = np.where((np.abs(ra_sky.deg - ra) < 1e-6) & (np.abs(dec_sky.deg - dec) < 1e-6))[0]\n",
    "        if len(matched) > 0:\n",
    "            matched_indices.extend(matched)\n",
    "    \n",
    "    skymap_pixels_in_target_percent = skymap[matched_indices]\n",
    "    \n",
    "    pixel_area = hp.nside2pixarea(nside)\n",
    "    total_area_target_percent = len(pixels_in_target_percent) * pixel_area\n",
    "    total_area_target_percent_deg2 = total_area_target_percent * (180 / np.pi)**2\n",
    "    \n",
    "    plot_skymap_with_90_percent_region(m, nside, pixels_in_target_percent)\n",
    "    \n",
    "    return total_area_target_percent_deg2, skymap_pixels_in_target_percent, nside\n",
    "\n",
    "def calculate_pixel_volumes(skymap, skymap_bytes, target_probability=0.1):\n",
    "    m, meta = read_sky_map(skymap_bytes)\n",
    "    #skymap = Table.read(skymap_file)\n",
    "    \n",
    "    nside = meta.get('nside', hp.get_nside(m))\n",
    "    \n",
    "    sorted_indices = np.argsort(m)[::-1]\n",
    "    sorted_prob_density = m[sorted_indices]\n",
    "    cumulative_prob = np.cumsum(sorted_prob_density)\n",
    "    \n",
    "    index_target_percent = np.where(cumulative_prob >= target_probability)[0][0]\n",
    "    pixels_in_target_percent = sorted_indices[:index_target_percent+1]\n",
    "    \n",
    "    theta, phi = hp.pix2ang(nside, pixels_in_target_percent)\n",
    "    ra_deg = np.degrees(phi)\n",
    "    dec_deg = np.degrees(0.5 * np.pi - theta)\n",
    "    \n",
    "    level, ipix = ah.uniq_to_level_ipix(skymap['UNIQ'])\n",
    "    nside_sky = ah.level_to_nside(level)\n",
    "    ra_sky, dec_sky = ah.healpix_to_lonlat(ipix, nside_sky, order='nested')\n",
    "    \n",
    "    matched_indices = []\n",
    "    for ra, dec in zip(ra_deg, dec_deg):\n",
    "        matched = np.where((np.abs(ra_sky.deg - ra) < 1e-6) & (np.abs(dec_sky.deg - dec) < 1e-6))[0]\n",
    "        if len(matched) > 0:\n",
    "            matched_indices.extend(matched)\n",
    "    \n",
    "    matched_indices = np.array(matched_indices)\n",
    "    \n",
    "    volumes = np.zeros(len(matched_indices))\n",
    "    \n",
    "     # Loop over each matched pixel to calculate volumes\n",
    "    for i, idx in enumerate(matched_indices):\n",
    "        pixel_area_deg2 =  hp.nside2pixarea(nside, degrees=True)\n",
    "        #Convert square degrees to square arcseconds\n",
    "        area_arcsec2 = pixel_area_deg2 * (3600**2)\n",
    "        #Convert square arcseconds to square parsecs using the conversion factor\n",
    "        area_pc2 = area_arcsec2 / (0.2679**2)\n",
    "        #Convert square parsecs to square megaparsecs (Mpc^2)\n",
    "        area_mpc2 = area_pc2 / 10**12\n",
    "        \n",
    "        dist = 1000\n",
    "        # Calculate the volume for this pixel\n",
    "        volumes[i] = (area_mpc2 * dist)*10e-9    # Gpc^3\n",
    "    \n",
    "    # Create a structured array to store pixel index, volume, and corresponding distances\n",
    "    pixel_volumes = np.zeros(len(matched_indices), dtype=[('pixel_index', int), ('volume_Gpc3', float)])\n",
    "    pixel_volumes['pixel_index'] = matched_indices\n",
    "    pixel_volumes['volume_Gpc3'] = volumes\n",
    "\n",
    "    return pixel_volumes\n",
    "\n",
    "def calculate_expected_transients_poisson(volumes, transients_rates, time_window_days=2):\n",
    "    total_expected_transients = {transient: 0 for transient in transients_rates}\n",
    "    time_window_years = time_window_days / 365.25\n",
    "    \n",
    "    for volume in volumes:\n",
    "        for transient, rate in transients_rates.items():\n",
    "            T = time_window_years\n",
    "            expected_events = rate * volume * T\n",
    "            \n",
    "            sampled_events = np.random.poisson(expected_events)\n",
    "            total_expected_transients[transient] += sampled_events\n",
    "    \n",
    "    return total_expected_transients\n",
    "\n",
    "def plot_skymap_with_90_percent_region(m, nside, pixels_in_target_percent):\n",
    "    theta, phi = hp.pix2ang(nside, np.arange(len(m)))\n",
    "    ra_rad = phi\n",
    "    dec_rad = 0.5 * np.pi - theta\n",
    "\n",
    "    ra_rad = ra_rad - np.pi\n",
    "\n",
    "    theta_90, phi_90 = hp.pix2ang(nside, pixels_in_target_percent)\n",
    "    ra_90 = phi_90 - np.pi\n",
    "    dec_90 = 0.5 * np.pi - theta_90\n",
    "    \n",
    "    fig = plt.figure(figsize=(10, 5))\n",
    "    ax = fig.add_subplot(111, projection='aitoff')\n",
    "    ax.grid(True)\n",
    "\n",
    "    sc = ax.scatter(ra_rad, dec_rad, c=m, s=5, cmap='Reds', alpha=0.7, linewidth=0)\n",
    "\n",
    "    ax.scatter(ra_90, dec_90, color='blue', marker='o', s=2, label='90% Probability Region')\n",
    "\n",
    "    cbar = plt.colorbar(sc, ax=ax, orientation=\"horizontal\", fraction=0.06, pad=0.1)\n",
    "    cbar.set_label('Probability Density')\n",
    "\n",
    "    plt.title(\"Skymap in Aitoff Projection with 90% Region\")\n",
    "    plt.legend(loc=1)\n",
    "    plt.show()"
   ]
  },
  {
   "cell_type": "code",
   "execution_count": 51,
   "metadata": {},
   "outputs": [],
   "source": [
    "def get_transients (gwevent):\n",
    "    \"\"\"\n",
    "    predict contaminant rates given a skymap\n",
    "    \"\"\"\n",
    "    print(f\"Calculating expected transients for event {gwevent[0]}\")\n",
    "    skymap_bytes = BytesIO(gwevent[1])\n",
    "    skymap = gwevent[2]\n",
    "\n",
    "    transients_rates = {\n",
    "        'SNIa': 2.35e4,  # per Gpc^3 per year\n",
    "        'CCSN': 1.01e5,\n",
    "        'SLSN': 5.6,\n",
    "        'KN': 5e3,\n",
    "        'GRB_on_axis': 1,\n",
    "        'GRB_off_axis': 7,\n",
    "        'CV': 1e6,  # Use a refined rate near the galactic plane\n",
    "    }\n",
    "\n",
    "    # Calculate volumes for the 90% area\n",
    "    pixel_volumes_in_90_percent = calculate_pixel_volumes(skymap, skymap_bytes, target_probability=0.1)\n",
    "\n",
    "    # Run multiple simulations\n",
    "    num_simulations = 10\n",
    "    all_simulations = {transient: [] for transient in transients_rates}\n",
    "\n",
    "    time_window_days = 200  # Define the time window\n",
    "\n",
    "    for _ in range(num_simulations):\n",
    "        # Calculate expected transients in the 90% probability region with time window integration\n",
    "        total_expected_transients = calculate_expected_transients_poisson(pixel_volumes_in_90_percent['volume_Gpc3'], transients_rates, time_window_days)\n",
    "        \n",
    "        # Store the results of each simulation\n",
    "        for transient, count in total_expected_transients.items():\n",
    "            all_simulations[transient].append(count)\n",
    "\n",
    "    # Calculate mean and standard deviation for each transient type\n",
    "    mean_transients = {transient: np.mean(all_simulations[transient]) for transient in transients_rates}\n",
    "    std_transients = {transient: np.std(all_simulations[transient]) for transient in transients_rates}\n",
    "\n",
    "    # Print the results\n",
    "    print(f'Mean and standard deviation of sampled transients over {time_window_days} days with {num_simulations} simulations:')\n",
    "    for transient in transients_rates:\n",
    "        print(f\"{transient}: Mean = {mean_transients[transient]:.15f}, Std = {std_transients[transient]:.15f}\")"
   ]
  },
  {
   "cell_type": "code",
   "execution_count": 52,
   "metadata": {},
   "outputs": [
    {
     "name": "stdout",
     "output_type": "stream",
     "text": [
      "Calculating expected transients for event S230518h\n",
      "Mean and standard deviation of sampled transients over 200 days with 10 simulations:\n",
      "SNIa: Mean = 0.000000000000000, Std = 0.000000000000000\n",
      "CCSN: Mean = 0.000000000000000, Std = 0.000000000000000\n",
      "SLSN: Mean = 0.000000000000000, Std = 0.000000000000000\n",
      "KN: Mean = 0.000000000000000, Std = 0.000000000000000\n",
      "GRB_on_axis: Mean = 0.000000000000000, Std = 0.000000000000000\n",
      "GRB_off_axis: Mean = 0.000000000000000, Std = 0.000000000000000\n",
      "CV: Mean = 0.000000000000000, Std = 0.000000000000000\n"
     ]
    }
   ],
   "source": [
    "get_transients(O4a_params[0])"
   ]
  },
  {
   "cell_type": "code",
   "execution_count": 53,
   "metadata": {},
   "outputs": [
    {
     "name": "stdout",
     "output_type": "stream",
     "text": [
      "Calculating expected transients for event S230529ay\n",
      "Mean and standard deviation of sampled transients over 200 days with 10 simulations:\n",
      "SNIa: Mean = 0.000000000000000, Std = 0.000000000000000\n",
      "CCSN: Mean = 0.000000000000000, Std = 0.000000000000000\n",
      "SLSN: Mean = 0.000000000000000, Std = 0.000000000000000\n",
      "KN: Mean = 0.000000000000000, Std = 0.000000000000000\n",
      "GRB_on_axis: Mean = 0.000000000000000, Std = 0.000000000000000\n",
      "GRB_off_axis: Mean = 0.000000000000000, Std = 0.000000000000000\n",
      "CV: Mean = 1.500000000000000, Std = 1.360147050873544\n"
     ]
    }
   ],
   "source": [
    "get_transients(O4a_params[1])"
   ]
  },
  {
   "cell_type": "code",
   "execution_count": 54,
   "metadata": {},
   "outputs": [
    {
     "name": "stdout",
     "output_type": "stream",
     "text": [
      "Calculating expected transients for event S230627c\n",
      "Mean and standard deviation of sampled transients over 200 days with 10 simulations:\n",
      "SNIa: Mean = 0.000000000000000, Std = 0.000000000000000\n",
      "CCSN: Mean = 0.000000000000000, Std = 0.000000000000000\n",
      "SLSN: Mean = 0.000000000000000, Std = 0.000000000000000\n",
      "KN: Mean = 0.000000000000000, Std = 0.000000000000000\n",
      "GRB_on_axis: Mean = 0.000000000000000, Std = 0.000000000000000\n",
      "GRB_off_axis: Mean = 0.000000000000000, Std = 0.000000000000000\n",
      "CV: Mean = 0.000000000000000, Std = 0.000000000000000\n"
     ]
    }
   ],
   "source": [
    "get_transients(O4a_params[2])"
   ]
  },
  {
   "cell_type": "code",
   "execution_count": 55,
   "metadata": {},
   "outputs": [
    {
     "name": "stdout",
     "output_type": "stream",
     "text": [
      "Calculating expected transients for event S230731an\n",
      "Mean and standard deviation of sampled transients over 200 days with 10 simulations:\n",
      "SNIa: Mean = 0.000000000000000, Std = 0.000000000000000\n",
      "CCSN: Mean = 0.000000000000000, Std = 0.000000000000000\n",
      "SLSN: Mean = 0.000000000000000, Std = 0.000000000000000\n",
      "KN: Mean = 0.000000000000000, Std = 0.000000000000000\n",
      "GRB_on_axis: Mean = 0.000000000000000, Std = 0.000000000000000\n",
      "GRB_off_axis: Mean = 0.000000000000000, Std = 0.000000000000000\n",
      "CV: Mean = 0.000000000000000, Std = 0.000000000000000\n"
     ]
    }
   ],
   "source": [
    "get_transients(O4a_params[3])"
   ]
  },
  {
   "cell_type": "code",
   "execution_count": 56,
   "metadata": {},
   "outputs": [
    {
     "name": "stdout",
     "output_type": "stream",
     "text": [
      "Calculating expected transients for event S231113bw\n",
      "Mean and standard deviation of sampled transients over 200 days with 10 simulations:\n",
      "SNIa: Mean = 0.000000000000000, Std = 0.000000000000000\n",
      "CCSN: Mean = 0.000000000000000, Std = 0.000000000000000\n",
      "SLSN: Mean = 0.000000000000000, Std = 0.000000000000000\n",
      "KN: Mean = 0.000000000000000, Std = 0.000000000000000\n",
      "GRB_on_axis: Mean = 0.000000000000000, Std = 0.000000000000000\n",
      "GRB_off_axis: Mean = 0.000000000000000, Std = 0.000000000000000\n",
      "CV: Mean = 0.100000000000000, Std = 0.300000000000000\n"
     ]
    }
   ],
   "source": [
    "get_transients(O4a_params[4])"
   ]
  },
  {
   "cell_type": "markdown",
   "metadata": {},
   "source": [
    "# My rates calculation"
   ]
  },
  {
   "cell_type": "code",
   "execution_count": null,
   "metadata": {},
   "outputs": [],
   "source": [
    "# get volume per pixel in 90% region of given skymap\n",
    "\n",
    "#to do - look at stats: total volume, avg volume per pixel, max volume, min volume   \n",
    "#could check how different 90% volume is from 90% area, which im currently using"
   ]
  },
  {
   "cell_type": "code",
   "execution_count": 73,
   "metadata": {},
   "outputs": [],
   "source": [
    "# adapted from https://github.com/lpsinger/ligo.skymap/blob/a8da314dcb078f7866f4178cbd523b9844cceae0/ligo/skymap/postprocess/crossmatch.py\n",
    "\n",
    "def get_skymap_voxels(skymap, contour=0.9, cosmology=True):\n",
    "    \"\"\"\n",
    "    Determine the volume per pixel in the 90% region of a skymap\n",
    "    This volume is associated with a sky position and can be used with positionally nonuniform rates\n",
    "    \"\"\"\n",
    "    # get specified countour of skymap, drop other pixels\n",
    "    skymap.sort('PROBDENSITY', reverse = True)\n",
    "    level, ipix = ah.uniq_to_level_ipix(skymap['UNIQ']) # ipix = sky location\n",
    "    nside = ah.level_to_nside(level) # nside = multi-order pixel resolution\n",
    "    pixel_area = ah.nside_to_pixel_area(ah.level_to_nside(level)) # pixel area in steradians\n",
    "    prob = pixel_area * skymap['PROBDENSITY']\n",
    "    cumprob = np.cumsum(prob)\n",
    "    i = cumprob.searchsorted(contour)\n",
    "    dA = pixel_area[:i].to_value(u.deg**2) #areas in deg**2 per pixel for only pixels in countour \n",
    "\n",
    "    #get ra and dec in degrees associated with each pixel\n",
    "    ra, dec = ah.healpix_to_lonlat(ipix[:i], nside[:i])\n",
    "    radeg = [r.deg for r in ra]\n",
    "    decdeg = [d.deg for d in dec]\n",
    "\n",
    "    # distances Mpc for contour region\n",
    "    r = skymap['DISTMU'][:i]\n",
    "    d_r = 2*1.645*skymap['DISTSIGMA'][:i]\n",
    "\n",
    "    #get more skymap values\n",
    "    dP_dA = skymap['PROBDENSITY'][:i]\n",
    "    mu = skymap['DISTMU'][:i]\n",
    "    sigma = skymap['DISTSIGMA'][:i]\n",
    "    norm = skymap['DISTNORM'][:i]\n",
    "\n",
    "    # Calculate volume of each voxel, defined as the region within the\n",
    "    # HEALPix pixel and contained within the two centric spherical shells\n",
    "    # with radii (r - d_r / 2) and (r + d_r / 2).\n",
    "    dV = (np.square(r) + np.square(d_r) / 12) * d_r * dA.reshape(-1, 1) #naive euclidean volume\n",
    "\n",
    "    # Calculate probability within each voxel.\n",
    "    dP = np.exp(\n",
    "        -0.5 * np.square(\n",
    "            (r.reshape(1, -1) - mu.reshape(-1, 1)) / sigma.reshape(-1, 1)\n",
    "        )\n",
    "    ) * (dP_dA * norm / (sigma * np.sqrt(2 * np.pi))).reshape(-1, 1) * dV\n",
    "    dP[np.isnan(dP)] = 0  # Suppress invalid values\n",
    "\n",
    "    # Calculate probability density per unit volume.\n",
    "    if cosmology:\n",
    "        dV *= dVC_dVL_for_DL(r) #comoving volume\n",
    "\n",
    "    dP_dV = dP / dV\n",
    "    j = np.flipud(np.argsort(dP_dV.ravel()))\n",
    "\n",
    "    P_flat = np.cumsum(dP.ravel()[j])\n",
    "    V_flat = np.cumsum(dV.ravel()[j])\n",
    "\n",
    "    print(f'total volume: {V_flat} Mpc') \n",
    "    return V_flat, dV, radeg, decdeg, r"
   ]
  },
  {
   "cell_type": "code",
   "execution_count": 68,
   "metadata": {},
   "outputs": [
    {
     "name": "stdout",
     "output_type": "stream",
     "text": [
      "getting volume for S230518h\n"
     ]
    },
    {
     "ename": "UnitConversionError",
     "evalue": "'Mpc' (length) and 'redshift' (redshift) are not convertible",
     "output_type": "error",
     "traceback": [
      "\u001b[0;31m---------------------------------------------------------------------------\u001b[0m",
      "\u001b[0;31mUnitConversionError\u001b[0m                       Traceback (most recent call last)",
      "Cell \u001b[0;32mIn[68], line 3\u001b[0m\n\u001b[1;32m      1\u001b[0m index \u001b[38;5;241m=\u001b[39m \u001b[38;5;241m0\u001b[39m\n\u001b[1;32m      2\u001b[0m \u001b[38;5;28mprint\u001b[39m(\u001b[38;5;124mf\u001b[39m\u001b[38;5;124m'\u001b[39m\u001b[38;5;124mgetting volume for \u001b[39m\u001b[38;5;132;01m{\u001b[39;00mO4a_params[index][\u001b[38;5;241m0\u001b[39m]\u001b[38;5;132;01m}\u001b[39;00m\u001b[38;5;124m'\u001b[39m)\n\u001b[0;32m----> 3\u001b[0m voxels0 \u001b[38;5;241m=\u001b[39m \u001b[43mget_skymap_voxels\u001b[49m\u001b[43m(\u001b[49m\u001b[43mO4a_params\u001b[49m\u001b[43m[\u001b[49m\u001b[43mindex\u001b[49m\u001b[43m]\u001b[49m\u001b[43m[\u001b[49m\u001b[38;5;241;43m2\u001b[39;49m\u001b[43m]\u001b[49m\u001b[43m)\u001b[49m\n",
      "Cell \u001b[0;32mIn[62], line 48\u001b[0m, in \u001b[0;36mget_skymap_voxels\u001b[0;34m(skymap, contour, cosmology)\u001b[0m\n\u001b[1;32m     46\u001b[0m \u001b[38;5;66;03m# Calculate probability density per unit volume.\u001b[39;00m\n\u001b[1;32m     47\u001b[0m \u001b[38;5;28;01mif\u001b[39;00m cosmology:\n\u001b[0;32m---> 48\u001b[0m     dV \u001b[38;5;241m*\u001b[39m\u001b[38;5;241m=\u001b[39m \u001b[43mdVC_dVL_for_DL\u001b[49m\u001b[43m(\u001b[49m\u001b[43mr\u001b[49m\u001b[43m)\u001b[49m \u001b[38;5;66;03m#comoving volume\u001b[39;00m\n\u001b[1;32m     50\u001b[0m dP_dV \u001b[38;5;241m=\u001b[39m dP \u001b[38;5;241m/\u001b[39m dV\n\u001b[1;32m     51\u001b[0m i \u001b[38;5;241m=\u001b[39m np\u001b[38;5;241m.\u001b[39mflipud(np\u001b[38;5;241m.\u001b[39margsort(dP_dV\u001b[38;5;241m.\u001b[39mravel()))\n",
      "File \u001b[0;32m~/mypy/environments/astroenv/lib/python3.12/site-packages/ligo/skymap/postprocess/cosmology.py:89\u001b[0m, in \u001b[0;36mdVC_dVL_for_DL\u001b[0;34m(DL)\u001b[0m\n\u001b[1;32m     85\u001b[0m \u001b[38;5;28;01mdef\u001b[39;00m \u001b[38;5;21mdVC_dVL_for_DL\u001b[39m(DL):\n\u001b[1;32m     86\u001b[0m \u001b[38;5;250m    \u001b[39m\u001b[38;5;124;03m\"\"\"Same as :meth:`dVC_dVL_for_z`, but as a function of luminosity\u001b[39;00m\n\u001b[1;32m     87\u001b[0m \u001b[38;5;124;03m    distance.\u001b[39;00m\n\u001b[1;32m     88\u001b[0m \u001b[38;5;124;03m    \"\"\"\u001b[39;00m\n\u001b[0;32m---> 89\u001b[0m     \u001b[38;5;28;01mreturn\u001b[39;00m \u001b[43mdVC_dVL_for_z\u001b[49m\u001b[43m(\u001b[49m\u001b[43mz_for_DL\u001b[49m\u001b[43m(\u001b[49m\u001b[43mDL\u001b[49m\u001b[43m)\u001b[49m\u001b[43m)\u001b[49m\n",
      "File \u001b[0;32m~/mypy/environments/astroenv/lib/python3.12/site-packages/ligo/skymap/postprocess/cosmology.py:73\u001b[0m, in \u001b[0;36mdVC_dVL_for_z\u001b[0;34m(z)\u001b[0m\n\u001b[1;32m     71\u001b[0m     ret \u001b[38;5;241m=\u001b[39m np\u001b[38;5;241m.\u001b[39mcos(np\u001b[38;5;241m.\u001b[39msqrt(\u001b[38;5;241m-\u001b[39mOk0) \u001b[38;5;241m*\u001b[39m DC_by_DH)\n\u001b[1;32m     72\u001b[0m ret \u001b[38;5;241m*\u001b[39m\u001b[38;5;241m=\u001b[39m zplus1\n\u001b[0;32m---> 73\u001b[0m ret \u001b[38;5;241m+\u001b[39m\u001b[38;5;241m=\u001b[39m DM_by_DH \u001b[38;5;241m*\u001b[39m \u001b[43mcosmo\u001b[49m\u001b[38;5;241;43m.\u001b[39;49m\u001b[43mefunc\u001b[49m\u001b[43m(\u001b[49m\u001b[43mz\u001b[49m\u001b[43m)\u001b[49m\n\u001b[1;32m     74\u001b[0m ret \u001b[38;5;241m*\u001b[39m\u001b[38;5;241m=\u001b[39m np\u001b[38;5;241m.\u001b[39msquare(zplus1)\n\u001b[1;32m     75\u001b[0m \u001b[38;5;28;01mreturn\u001b[39;00m \u001b[38;5;241m1.0\u001b[39m \u001b[38;5;241m/\u001b[39m ret\n",
      "File \u001b[0;32m~/mypy/environments/astroenv/lib/python3.12/site-packages/astropy/cosmology/flrw/lambdacdm.py:705\u001b[0m, in \u001b[0;36mFlatLambdaCDM.efunc\u001b[0;34m(self, z)\u001b[0m\n\u001b[1;32m    686\u001b[0m \u001b[38;5;250m\u001b[39m\u001b[38;5;124;03m\"\"\"Function used to calculate H(z), the Hubble parameter.\u001b[39;00m\n\u001b[1;32m    687\u001b[0m \n\u001b[1;32m    688\u001b[0m \u001b[38;5;124;03mParameters\u001b[39;00m\n\u001b[0;32m   (...)\u001b[0m\n\u001b[1;32m    698\u001b[0m \u001b[38;5;124;03m    Defined such that :math:`H(z) = H_0 E(z)`.\u001b[39;00m\n\u001b[1;32m    699\u001b[0m \u001b[38;5;124;03m\"\"\"\u001b[39;00m\n\u001b[1;32m    700\u001b[0m \u001b[38;5;66;03m# We override this because it takes a particularly simple\u001b[39;00m\n\u001b[1;32m    701\u001b[0m \u001b[38;5;66;03m# form for a cosmological constant\u001b[39;00m\n\u001b[1;32m    702\u001b[0m Or \u001b[38;5;241m=\u001b[39m \u001b[38;5;28mself\u001b[39m\u001b[38;5;241m.\u001b[39m_Ogamma0 \u001b[38;5;241m+\u001b[39m (\n\u001b[1;32m    703\u001b[0m     \u001b[38;5;28mself\u001b[39m\u001b[38;5;241m.\u001b[39m_Onu0\n\u001b[1;32m    704\u001b[0m     \u001b[38;5;28;01mif\u001b[39;00m \u001b[38;5;129;01mnot\u001b[39;00m \u001b[38;5;28mself\u001b[39m\u001b[38;5;241m.\u001b[39m_massivenu\n\u001b[0;32m--> 705\u001b[0m     \u001b[38;5;28;01melse\u001b[39;00m \u001b[38;5;28mself\u001b[39m\u001b[38;5;241m.\u001b[39m_Ogamma0 \u001b[38;5;241m*\u001b[39m \u001b[38;5;28;43mself\u001b[39;49m\u001b[38;5;241;43m.\u001b[39;49m\u001b[43mnu_relative_density\u001b[49m\u001b[43m(\u001b[49m\u001b[43mz\u001b[49m\u001b[43m)\u001b[49m\n\u001b[1;32m    706\u001b[0m )\n\u001b[1;32m    707\u001b[0m zp1 \u001b[38;5;241m=\u001b[39m aszarr(z) \u001b[38;5;241m+\u001b[39m \u001b[38;5;241m1.0\u001b[39m  \u001b[38;5;66;03m# (converts z [unit] -> z [dimensionless])\u001b[39;00m\n\u001b[1;32m    709\u001b[0m \u001b[38;5;28;01mreturn\u001b[39;00m np\u001b[38;5;241m.\u001b[39msqrt(zp1\u001b[38;5;241m*\u001b[39m\u001b[38;5;241m*\u001b[39m\u001b[38;5;241m3\u001b[39m \u001b[38;5;241m*\u001b[39m (Or \u001b[38;5;241m*\u001b[39m zp1 \u001b[38;5;241m+\u001b[39m \u001b[38;5;28mself\u001b[39m\u001b[38;5;241m.\u001b[39m_Om0) \u001b[38;5;241m+\u001b[39m \u001b[38;5;28mself\u001b[39m\u001b[38;5;241m.\u001b[39m_Ode0)\n",
      "File \u001b[0;32m~/mypy/environments/astroenv/lib/python3.12/site-packages/astropy/cosmology/flrw/base.py:698\u001b[0m, in \u001b[0;36mFLRW.nu_relative_density\u001b[0;34m(self, z)\u001b[0m\n\u001b[1;32m    694\u001b[0m prefac \u001b[38;5;241m=\u001b[39m \u001b[38;5;241m0.22710731766\u001b[39m  \u001b[38;5;66;03m# 7/8 (4/11)^4/3 -- see any cosmo book\u001b[39;00m\n\u001b[1;32m    696\u001b[0m \u001b[38;5;66;03m# The massive and massless contribution must be handled separately\u001b[39;00m\n\u001b[1;32m    697\u001b[0m \u001b[38;5;66;03m# But check for common cases first\u001b[39;00m\n\u001b[0;32m--> 698\u001b[0m z \u001b[38;5;241m=\u001b[39m \u001b[43maszarr\u001b[49m\u001b[43m(\u001b[49m\u001b[43mz\u001b[49m\u001b[43m)\u001b[49m\n\u001b[1;32m    699\u001b[0m \u001b[38;5;28;01mif\u001b[39;00m \u001b[38;5;129;01mnot\u001b[39;00m \u001b[38;5;28mself\u001b[39m\u001b[38;5;241m.\u001b[39m_massivenu:\n\u001b[1;32m    700\u001b[0m     \u001b[38;5;28;01mreturn\u001b[39;00m (\n\u001b[1;32m    701\u001b[0m         prefac \u001b[38;5;241m*\u001b[39m \u001b[38;5;28mself\u001b[39m\u001b[38;5;241m.\u001b[39m_Neff \u001b[38;5;241m*\u001b[39m (np\u001b[38;5;241m.\u001b[39mones(z\u001b[38;5;241m.\u001b[39mshape) \u001b[38;5;28;01mif\u001b[39;00m \u001b[38;5;28mhasattr\u001b[39m(z, \u001b[38;5;124m\"\u001b[39m\u001b[38;5;124mshape\u001b[39m\u001b[38;5;124m\"\u001b[39m) \u001b[38;5;28;01melse\u001b[39;00m \u001b[38;5;241m1.0\u001b[39m)\n\u001b[1;32m    702\u001b[0m     )\n",
      "File \u001b[0;32m~/mypy/environments/astroenv/lib/python3.12/site-packages/astropy/cosmology/_utils.py:85\u001b[0m, in \u001b[0;36maszarr\u001b[0;34m(z)\u001b[0m\n\u001b[1;32m     83\u001b[0m         z \u001b[38;5;241m=\u001b[39m z\u001b[38;5;241m.\u001b[39mvalues\n\u001b[1;32m     84\u001b[0m     \u001b[38;5;28;01mif\u001b[39;00m \u001b[38;5;28mhasattr\u001b[39m(z, \u001b[38;5;124m\"\u001b[39m\u001b[38;5;124munit\u001b[39m\u001b[38;5;124m\"\u001b[39m):  \u001b[38;5;66;03m# Quantity Column\u001b[39;00m\n\u001b[0;32m---> 85\u001b[0m         \u001b[38;5;28;01mreturn\u001b[39;00m (\u001b[43mz\u001b[49m\u001b[43m \u001b[49m\u001b[38;5;241;43m<<\u001b[39;49m\u001b[43m \u001b[49m\u001b[43mcu\u001b[49m\u001b[38;5;241;43m.\u001b[39;49m\u001b[43mredshift\u001b[49m)\u001b[38;5;241m.\u001b[39mvalue  \u001b[38;5;66;03m# for speed only use enabled equivs\u001b[39;00m\n\u001b[1;32m     86\u001b[0m     \u001b[38;5;28;01mreturn\u001b[39;00m z\n\u001b[1;32m     87\u001b[0m \u001b[38;5;66;03m# not one of the preferred types: Number / array ducktype\u001b[39;00m\n",
      "File \u001b[0;32m~/mypy/environments/astroenv/lib/python3.12/site-packages/astropy/units/core.py:913\u001b[0m, in \u001b[0;36mUnitBase.__rlshift__\u001b[0;34m(self, m)\u001b[0m\n\u001b[1;32m    910\u001b[0m \u001b[38;5;28;01mtry\u001b[39;00m:\n\u001b[1;32m    911\u001b[0m     \u001b[38;5;28;01mfrom\u001b[39;00m \u001b[38;5;21;01m.\u001b[39;00m\u001b[38;5;21;01mquantity\u001b[39;00m \u001b[38;5;28;01mimport\u001b[39;00m Quantity\n\u001b[0;32m--> 913\u001b[0m     \u001b[38;5;28;01mreturn\u001b[39;00m \u001b[43mQuantity\u001b[49m\u001b[43m(\u001b[49m\u001b[43mm\u001b[49m\u001b[43m,\u001b[49m\u001b[43m \u001b[49m\u001b[38;5;28;43mself\u001b[39;49m\u001b[43m,\u001b[49m\u001b[43m \u001b[49m\u001b[43mcopy\u001b[49m\u001b[38;5;241;43m=\u001b[39;49m\u001b[43mCOPY_IF_NEEDED\u001b[49m\u001b[43m,\u001b[49m\u001b[43m \u001b[49m\u001b[43msubok\u001b[49m\u001b[38;5;241;43m=\u001b[39;49m\u001b[38;5;28;43;01mTrue\u001b[39;49;00m\u001b[43m)\u001b[49m\n\u001b[1;32m    914\u001b[0m \u001b[38;5;28;01mexcept\u001b[39;00m \u001b[38;5;167;01mException\u001b[39;00m:\n\u001b[1;32m    915\u001b[0m     \u001b[38;5;28;01mif\u001b[39;00m \u001b[38;5;28misinstance\u001b[39m(m, np\u001b[38;5;241m.\u001b[39mndarray):\n",
      "File \u001b[0;32m~/mypy/environments/astroenv/lib/python3.12/site-packages/astropy/units/quantity.py:576\u001b[0m, in \u001b[0;36mQuantity.__new__\u001b[0;34m(cls, value, unit, dtype, copy, order, subok, ndmin)\u001b[0m\n\u001b[1;32m    572\u001b[0m     \u001b[38;5;28;01mreturn\u001b[39;00m value\n\u001b[1;32m    573\u001b[0m \u001b[38;5;28;01melse\u001b[39;00m:\n\u001b[1;32m    574\u001b[0m     \u001b[38;5;66;03m# here we had non-Quantity input that had a \"unit\" attribute\u001b[39;00m\n\u001b[1;32m    575\u001b[0m     \u001b[38;5;66;03m# with a unit different from the desired one.  So, convert.\u001b[39;00m\n\u001b[0;32m--> 576\u001b[0m     \u001b[38;5;28;01mreturn\u001b[39;00m \u001b[43mvalue\u001b[49m\u001b[38;5;241;43m.\u001b[39;49m\u001b[43mto\u001b[49m\u001b[43m(\u001b[49m\u001b[43munit\u001b[49m\u001b[43m)\u001b[49m\n",
      "File \u001b[0;32m~/mypy/environments/astroenv/lib/python3.12/site-packages/astropy/units/quantity.py:943\u001b[0m, in \u001b[0;36mQuantity.to\u001b[0;34m(self, unit, equivalencies, copy)\u001b[0m\n\u001b[1;32m    939\u001b[0m unit \u001b[38;5;241m=\u001b[39m Unit(unit)\n\u001b[1;32m    940\u001b[0m \u001b[38;5;28;01mif\u001b[39;00m copy:\n\u001b[1;32m    941\u001b[0m     \u001b[38;5;66;03m# Avoid using to_value to ensure that we make a copy. We also\u001b[39;00m\n\u001b[1;32m    942\u001b[0m     \u001b[38;5;66;03m# don't want to slow down this method (esp. the scalar case).\u001b[39;00m\n\u001b[0;32m--> 943\u001b[0m     value \u001b[38;5;241m=\u001b[39m \u001b[38;5;28;43mself\u001b[39;49m\u001b[38;5;241;43m.\u001b[39;49m\u001b[43m_to_value\u001b[49m\u001b[43m(\u001b[49m\u001b[43munit\u001b[49m\u001b[43m,\u001b[49m\u001b[43m \u001b[49m\u001b[43mequivalencies\u001b[49m\u001b[43m)\u001b[49m\n\u001b[1;32m    944\u001b[0m \u001b[38;5;28;01melse\u001b[39;00m:\n\u001b[1;32m    945\u001b[0m     \u001b[38;5;66;03m# to_value only copies if necessary\u001b[39;00m\n\u001b[1;32m    946\u001b[0m     value \u001b[38;5;241m=\u001b[39m \u001b[38;5;28mself\u001b[39m\u001b[38;5;241m.\u001b[39mto_value(unit, equivalencies)\n",
      "File \u001b[0;32m~/mypy/environments/astroenv/lib/python3.12/site-packages/astropy/units/quantity.py:896\u001b[0m, in \u001b[0;36mQuantity._to_value\u001b[0;34m(self, unit, equivalencies)\u001b[0m\n\u001b[1;32m    893\u001b[0m     equivalencies \u001b[38;5;241m=\u001b[39m \u001b[38;5;28mself\u001b[39m\u001b[38;5;241m.\u001b[39m_equivalencies\n\u001b[1;32m    894\u001b[0m \u001b[38;5;28;01mif\u001b[39;00m \u001b[38;5;129;01mnot\u001b[39;00m \u001b[38;5;28mself\u001b[39m\u001b[38;5;241m.\u001b[39mdtype\u001b[38;5;241m.\u001b[39mnames \u001b[38;5;129;01mor\u001b[39;00m \u001b[38;5;28misinstance\u001b[39m(\u001b[38;5;28mself\u001b[39m\u001b[38;5;241m.\u001b[39munit, StructuredUnit):\n\u001b[1;32m    895\u001b[0m     \u001b[38;5;66;03m# Standard path, let unit to do work.\u001b[39;00m\n\u001b[0;32m--> 896\u001b[0m     \u001b[38;5;28;01mreturn\u001b[39;00m \u001b[38;5;28;43mself\u001b[39;49m\u001b[38;5;241;43m.\u001b[39;49m\u001b[43munit\u001b[49m\u001b[38;5;241;43m.\u001b[39;49m\u001b[43mto\u001b[49m\u001b[43m(\u001b[49m\n\u001b[1;32m    897\u001b[0m \u001b[43m        \u001b[49m\u001b[43munit\u001b[49m\u001b[43m,\u001b[49m\u001b[43m \u001b[49m\u001b[38;5;28;43mself\u001b[39;49m\u001b[38;5;241;43m.\u001b[39;49m\u001b[43mview\u001b[49m\u001b[43m(\u001b[49m\u001b[43mnp\u001b[49m\u001b[38;5;241;43m.\u001b[39;49m\u001b[43mndarray\u001b[49m\u001b[43m)\u001b[49m\u001b[43m,\u001b[49m\u001b[43m \u001b[49m\u001b[43mequivalencies\u001b[49m\u001b[38;5;241;43m=\u001b[39;49m\u001b[43mequivalencies\u001b[49m\n\u001b[1;32m    898\u001b[0m \u001b[43m    \u001b[49m\u001b[43m)\u001b[49m\n\u001b[1;32m    900\u001b[0m \u001b[38;5;28;01melse\u001b[39;00m:\n\u001b[1;32m    901\u001b[0m     \u001b[38;5;66;03m# The .to() method of a simple unit cannot convert a structured\u001b[39;00m\n\u001b[1;32m    902\u001b[0m     \u001b[38;5;66;03m# dtype, so we work around it, by recursing.\u001b[39;00m\n\u001b[1;32m    903\u001b[0m     \u001b[38;5;66;03m# TODO: deprecate this?\u001b[39;00m\n\u001b[1;32m    904\u001b[0m     \u001b[38;5;66;03m# Convert simple to Structured on initialization?\u001b[39;00m\n\u001b[1;32m    905\u001b[0m     result \u001b[38;5;241m=\u001b[39m np\u001b[38;5;241m.\u001b[39mempty_like(\u001b[38;5;28mself\u001b[39m\u001b[38;5;241m.\u001b[39mview(np\u001b[38;5;241m.\u001b[39mndarray))\n",
      "File \u001b[0;32m~/mypy/environments/astroenv/lib/python3.12/site-packages/astropy/units/core.py:1227\u001b[0m, in \u001b[0;36mUnitBase.to\u001b[0;34m(self, other, value, equivalencies)\u001b[0m\n\u001b[1;32m   1225\u001b[0m     \u001b[38;5;28;01mreturn\u001b[39;00m UNITY\n\u001b[1;32m   1226\u001b[0m \u001b[38;5;28;01melse\u001b[39;00m:\n\u001b[0;32m-> 1227\u001b[0m     \u001b[38;5;28;01mreturn\u001b[39;00m \u001b[38;5;28;43mself\u001b[39;49m\u001b[38;5;241;43m.\u001b[39;49m\u001b[43mget_converter\u001b[49m\u001b[43m(\u001b[49m\u001b[43mUnit\u001b[49m\u001b[43m(\u001b[49m\u001b[43mother\u001b[49m\u001b[43m)\u001b[49m\u001b[43m,\u001b[49m\u001b[43m \u001b[49m\u001b[43mequivalencies\u001b[49m\u001b[43m)\u001b[49m(value)\n",
      "File \u001b[0;32m~/mypy/environments/astroenv/lib/python3.12/site-packages/astropy/units/core.py:1156\u001b[0m, in \u001b[0;36mUnitBase.get_converter\u001b[0;34m(self, other, equivalencies)\u001b[0m\n\u001b[1;32m   1153\u001b[0m             \u001b[38;5;28;01melse\u001b[39;00m:\n\u001b[1;32m   1154\u001b[0m                 \u001b[38;5;28;01mreturn\u001b[39;00m \u001b[38;5;28;01mlambda\u001b[39;00m v: b(converter(v))\n\u001b[0;32m-> 1156\u001b[0m \u001b[38;5;28;01mraise\u001b[39;00m exc\n",
      "File \u001b[0;32m~/mypy/environments/astroenv/lib/python3.12/site-packages/astropy/units/core.py:1139\u001b[0m, in \u001b[0;36mUnitBase.get_converter\u001b[0;34m(self, other, equivalencies)\u001b[0m\n\u001b[1;32m   1137\u001b[0m \u001b[38;5;66;03m# if that doesn't work, maybe we can do it with equivalencies?\u001b[39;00m\n\u001b[1;32m   1138\u001b[0m \u001b[38;5;28;01mtry\u001b[39;00m:\n\u001b[0;32m-> 1139\u001b[0m     \u001b[38;5;28;01mreturn\u001b[39;00m \u001b[38;5;28;43mself\u001b[39;49m\u001b[38;5;241;43m.\u001b[39;49m\u001b[43m_apply_equivalencies\u001b[49m\u001b[43m(\u001b[49m\n\u001b[1;32m   1140\u001b[0m \u001b[43m        \u001b[49m\u001b[38;5;28;43mself\u001b[39;49m\u001b[43m,\u001b[49m\u001b[43m \u001b[49m\u001b[43mother\u001b[49m\u001b[43m,\u001b[49m\u001b[43m \u001b[49m\u001b[38;5;28;43mself\u001b[39;49m\u001b[38;5;241;43m.\u001b[39;49m\u001b[43m_normalize_equivalencies\u001b[49m\u001b[43m(\u001b[49m\u001b[43mequivalencies\u001b[49m\u001b[43m)\u001b[49m\n\u001b[1;32m   1141\u001b[0m \u001b[43m    \u001b[49m\u001b[43m)\u001b[49m\n\u001b[1;32m   1142\u001b[0m \u001b[38;5;28;01mexcept\u001b[39;00m UnitsError \u001b[38;5;28;01mas\u001b[39;00m exc:\n\u001b[1;32m   1143\u001b[0m     \u001b[38;5;66;03m# Last hope: maybe other knows how to do it?\u001b[39;00m\n\u001b[1;32m   1144\u001b[0m     \u001b[38;5;66;03m# We assume the equivalencies have the unit itself as first item.\u001b[39;00m\n\u001b[1;32m   1145\u001b[0m     \u001b[38;5;66;03m# TODO: maybe better for other to have a `_back_converter` method?\u001b[39;00m\n\u001b[1;32m   1146\u001b[0m     \u001b[38;5;28;01mif\u001b[39;00m \u001b[38;5;28mhasattr\u001b[39m(other, \u001b[38;5;124m\"\u001b[39m\u001b[38;5;124mequivalencies\u001b[39m\u001b[38;5;124m\"\u001b[39m):\n",
      "File \u001b[0;32m~/mypy/environments/astroenv/lib/python3.12/site-packages/astropy/units/core.py:1090\u001b[0m, in \u001b[0;36mUnitBase._apply_equivalencies\u001b[0;34m(self, unit, other, equivalencies)\u001b[0m\n\u001b[1;32m   1087\u001b[0m unit_str \u001b[38;5;241m=\u001b[39m get_err_str(unit)\n\u001b[1;32m   1088\u001b[0m other_str \u001b[38;5;241m=\u001b[39m get_err_str(other)\n\u001b[0;32m-> 1090\u001b[0m \u001b[38;5;28;01mraise\u001b[39;00m UnitConversionError(\u001b[38;5;124mf\u001b[39m\u001b[38;5;124m\"\u001b[39m\u001b[38;5;132;01m{\u001b[39;00munit_str\u001b[38;5;132;01m}\u001b[39;00m\u001b[38;5;124m and \u001b[39m\u001b[38;5;132;01m{\u001b[39;00mother_str\u001b[38;5;132;01m}\u001b[39;00m\u001b[38;5;124m are not convertible\u001b[39m\u001b[38;5;124m\"\u001b[39m)\n",
      "\u001b[0;31mUnitConversionError\u001b[0m: 'Mpc' (length) and 'redshift' (redshift) are not convertible"
     ]
    }
   ],
   "source": [
    "index = 0\n",
    "print(f'getting volume for {O4a_params[index][0]}')\n",
    "voxels0 = get_skymap_voxels(O4a_params[index][2])"
   ]
  },
  {
   "cell_type": "code",
   "execution_count": 74,
   "metadata": {},
   "outputs": [
    {
     "name": "stdout",
     "output_type": "stream",
     "text": [
      "total volume: [6.14164345e+04 1.21905594e+05 2.21978555e+05 ... 2.60550310e+13\n",
      " 2.60550333e+13 2.60550356e+13] Mpc\n"
     ]
    }
   ],
   "source": [
    "# check for comparison: assume comoving volume is necessary at these redshifts\n",
    "\n",
    "voxels0_euclidean = get_skymap_voxels(O4a_params[index][2], cosmology = False)"
   ]
  },
  {
   "cell_type": "code",
   "execution_count": null,
   "metadata": {},
   "outputs": [],
   "source": [
    "def plotter (ra, dec, url):\n",
    "    center = SkyCoord(ra=0*u.degree, dec=0*u.degree, frame='icrs')\n",
    "\n",
    "    fig = plt.figure(figsize=(8, 6), dpi=100)\n",
    "\n",
    "    ax = plt.axes(\n",
    "        [0.05, 0.05, 0.9, 0.9],\n",
    "        projection='astro globe',\n",
    "        center=center)\n",
    "\n",
    "    ax_inset = plt.axes(\n",
    "        [0.7, 0.45, 0.7, 0.7],\n",
    "        projection='astro zoom',\n",
    "        center=center,\n",
    "        radius=7*u.deg)\n",
    "\n",
    "    for key in ['ra', 'dec']:\n",
    "        ax_inset.coords[key].set_ticklabel_visible(False)\n",
    "        ax_inset.coords[key].set_ticks_visible(False)\n",
    "    ax.grid()\n",
    "    ax.mark_inset_axes(ax_inset)\n",
    "    ax.connect_inset_axes(ax_inset, 'upper left')\n",
    "    ax.connect_inset_axes(ax_inset, 'lower left')\n",
    "    ax_inset.scalebar((0.1, 0.1), 5 * u.deg).label()\n",
    "\n",
    "    ax.imshow_hpx(url, cmap='cylon')\n",
    "    ax_inset.imshow_hpx(url, cmap='cylon')\n",
    "\n",
    "    ax_inset.plot(\n",
    "        ra, dec, 'X', color='blue', \n",
    "        transform=ax_inset.get_transform('world'),\n",
    "        markersize=1,\n",
    "        markeredgewidth=1)"
   ]
  },
  {
   "cell_type": "code",
   "execution_count": null,
   "metadata": {},
   "outputs": [],
   "source": [
    "# use volume time rates to get rates per time"
   ]
  },
  {
   "cell_type": "code",
   "execution_count": 75,
   "metadata": {},
   "outputs": [],
   "source": [
    "def calculate_expected_transients_poisson(volumes, transients_rates, time_window_days):\n",
    "    total_expected_transients = {transient: 0 for transient in transients_rates}\n",
    "    time_window_years = time_window_days / 365.25\n",
    "    \n",
    "    for volume in volumes:\n",
    "        for transient, rate in transients_rates.items():\n",
    "            T = time_window_years\n",
    "            expected_events = rate * volume * T\n",
    "            \n",
    "            sampled_events = np.random.poisson(expected_events)\n",
    "            total_expected_transients[transient] += sampled_events\n",
    "    \n",
    "    return total_expected_transients"
   ]
  },
  {
   "cell_type": "code",
   "execution_count": 76,
   "metadata": {},
   "outputs": [],
   "source": [
    "def get_transients (gwevent, volume, rates, time_window_days=2, num_simulations=10):    \n",
    "    \"\"\"\n",
    "    predict contaminant rates given a skymap\n",
    "    \"\"\"\n",
    "    print(f\"Calculating expected transients for event {gwevent[0]}\")\n",
    "\n",
    "    # Run multiple simulations\n",
    "    all_simulations = {transient: [] for transient in rates}\n",
    "\n",
    "    volume_gpc = volume * 10e-9 #convert Mpc^3 to Gpc^3\n",
    "    \n",
    "    for _ in range(num_simulations):\n",
    "        total_expected_transients = calculate_expected_transients_poisson(volume, rates, time_window_days)\n",
    "        \n",
    "        # Store the results of each simulation\n",
    "        for transient, count in total_expected_transients.items():\n",
    "            all_simulations[transient].append(count)\n",
    "\n",
    "    # Calculate mean and standard deviation for each transient type\n",
    "    mean_transients = {transient: np.mean(all_simulations[transient]) for transient in rates}\n",
    "    std_transients = {transient: np.std(all_simulations[transient]) for transient in rates}\n",
    "\n",
    "    # Print the results\n",
    "    print(f'Mean and standard deviation of sampled transients over {time_window_days} days with {num_simulations} simulations:')\n",
    "    for transient in rates:\n",
    "        print(f\"{transient}: Mean = {mean_transients[transient]:.15f}, Std = {std_transients[transient]:.15f}\")"
   ]
  },
  {
   "cell_type": "code",
   "execution_count": null,
   "metadata": {},
   "outputs": [],
   "source": [
    "transients_rates = {\n",
    "    'SNIa': 2.35e4,  # per Gpc^3 per year\n",
    "    'CCSN': 1.01e5,\n",
    "    'SLSN': 5.6,\n",
    "    'KN': 5e3,\n",
    "    'GRB_on_axis': 1,\n",
    "    'GRB_off_axis': 7,\n",
    "    'CV': 1e6,  # Use a refined rate near the galactic plane\n",
    "}"
   ]
  },
  {
   "cell_type": "code",
   "execution_count": null,
   "metadata": {},
   "outputs": [],
   "source": [
    "transients = get_transients(O4a_params[0], v, transients_rates)"
   ]
  },
  {
   "cell_type": "code",
   "execution_count": null,
   "metadata": {},
   "outputs": [],
   "source": [
    "# next steps: add galactic latitude consideration to rates\n"
   ]
  }
 ],
 "metadata": {
  "kernelspec": {
   "display_name": "Python 3",
   "language": "python",
   "name": "python3"
  },
  "language_info": {
   "codemirror_mode": {
    "name": "ipython",
    "version": 3
   },
   "file_extension": ".py",
   "mimetype": "text/x-python",
   "name": "python",
   "nbconvert_exporter": "python",
   "pygments_lexer": "ipython3",
   "version": "3.12.3"
  }
 },
 "nbformat": 4,
 "nbformat_minor": 2
}
