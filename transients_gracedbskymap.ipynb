{
 "cells": [
  {
   "cell_type": "code",
   "execution_count": 3,
   "metadata": {},
   "outputs": [],
   "source": [
    "import numpy as np\n",
    "import matplotlib.pyplot as plt\n",
    "import healpy as hp\n",
    "from io import BytesIO\n",
    "import xmltodict\n",
    "import requests\n",
    "import warnings\n",
    "warnings.filterwarnings(\"ignore\", \"Wswiglal-redir-stdio\")\n",
    "\n",
    "from astropy.table import Table\n",
    "from astropy.table import QTable\n",
    "import astropy_healpix as ah\n",
    "import astropy.units as u\n",
    "from ligo.skymap.io import read_sky_map\n",
    "from ligo.skymap.postprocess.cosmology import dVC_dVL_for_DL\n",
    "from astropy.cosmology import Planck15 as cosmo, z_at_value\n",
    "\n",
    "from ligo.gracedb.rest import GraceDb\n",
    "g = GraceDb()"
   ]
  },
  {
   "cell_type": "markdown",
   "metadata": {},
   "source": [
    "# O4a events\n",
    "\n",
    "options to get all significan O4a mergers, or the 5 mergers considered in O4a paper"
   ]
  },
  {
   "cell_type": "code",
   "execution_count": 4,
   "metadata": {},
   "outputs": [
    {
     "name": "stdout",
     "output_type": "stream",
     "text": [
      "89 significant superevents in O4a\n"
     ]
    }
   ],
   "source": [
    "# use gracedb api call to get O4a significant superevents, but some of these have been retracted.\n",
    "\n",
    "event_iterator = g.superevents('runid: O4a SIGNIF_LOCKED')\n",
    "graceids = [superevent['superevent_id'] for superevent in event_iterator]\n",
    "\n",
    "print (len(graceids), 'significant superevents in O4a')"
   ]
  },
  {
   "cell_type": "code",
   "execution_count": 5,
   "metadata": {},
   "outputs": [],
   "source": [
    "responses = [g.superevent(id) for id in graceids]\n",
    "data = [r.json() for r in responses]"
   ]
  },
  {
   "cell_type": "code",
   "execution_count": 4,
   "metadata": {},
   "outputs": [],
   "source": [
    "def get_gcn_urls (ids, files):\n",
    "    \"\"\"\n",
    "    remove retracted events\n",
    "    get the most recent file for each superevent\n",
    "    \"\"\" \n",
    "\n",
    "    superevent_files = [i['links']['files'] for i in files]\n",
    "\n",
    "    event_files = [g.files(graceid).json() for graceid in ids]\n",
    "\n",
    "    file = ['none' if any('etraction' in s for s in list(files))\n",
    "            else id+'-5-Update.xml,0' if id+'-5-Update.xml,0' in list(files)\n",
    "            else id+'-5-Update.xml' if id+'-5-Update.xml' in list(files)\n",
    "            else id+'-4-Update.xml,0' if id+'-4-Update.xml,0' in list(files)\n",
    "            else id+'-4-Update.xml' if id+'-4-Update.xml' in list(files)\n",
    "            else id+'-3-Update.xml,0' if id+'-3-Update.xml,0' in list(files)\n",
    "            else id+'-2-Update.xml,0' if id+'-2-Update.xml,0' in list(files)\n",
    "            else id+'-4-Initial.xml,0' if id+'-4-Initial.xml,0' in list(files) \n",
    "            else id+'-3-Initial.xml,0' if id+'-3-Initial.xml,0' in list(files)\n",
    "            else id+'-2-Initial.xml,0' if id+'-2-Initial.xml,0' in list(files)\n",
    "            else id+'-2-Preliminary.xml,0' if id+'-2-Preliminary.xml,0' in list(files)\n",
    "            else 'none' for files, id in zip(event_files, graceids)]\n",
    "\n",
    "    urls = [i+j for i,j in zip(superevent_files, file)]\n",
    "\n",
    "    [print(x) for x in urls if \"none\" in x]\n",
    "    urls_save = [x for x in urls if \"none\" not in x]\n",
    "    \n",
    "    return(urls_save)\n",
    "\n",
    "def get_params(xml_urls):\n",
    "    \"\"\"\n",
    "    get superevent_id and skymap from event files\n",
    "    \"\"\"\n",
    "\n",
    "    try:\n",
    "        response = requests.get(xml_urls)\n",
    "        dict=xmltodict.parse(response.text)\n",
    "        superevent_id  = [item['@value'] for item in dict['voe:VOEvent']['What']['Param'] if item.get('@name') == 'GraceID'][0]\n",
    "        skymap_url = [item['Param']['@value'] for item in dict['voe:VOEvent']['What']['Group'] if item.get('@name') == 'GW_SKYMAP'][0]\n",
    "        classification = [item for item in dict['voe:VOEvent']['What']['Group'] if item.get('@name') == 'Classification']\n",
    "        prob_bns = float([item['@value'] for item in classification[0]['Param'] if item.get('@name') == 'BNS'][0])  \n",
    "        prob_nsbh = float([item['@value'] for item in classification[0]['Param'] if item.get('@name') == 'NSBH'][0])  \n",
    "        skymap_response = requests.get(skymap_url)\n",
    "        skymap_bytes = skymap_response.content\n",
    "        skymap = Table.read(BytesIO(skymap_bytes))\n",
    "        return superevent_id, skymap_bytes, skymap, prob_bns, prob_nsbh\n",
    "    \n",
    "    except:\n",
    "        print (xml_urls)"
   ]
  },
  {
   "cell_type": "code",
   "execution_count": 7,
   "metadata": {},
   "outputs": [
    {
     "name": "stdout",
     "output_type": "stream",
     "text": [
      "https://gracedb.ligo.org/api/superevents/S231112ag/files/none\n",
      "https://gracedb.ligo.org/api/superevents/S230830b/files/none\n",
      "https://gracedb.ligo.org/api/superevents/S230808i/files/none\n",
      "https://gracedb.ligo.org/api/superevents/S230715bw/files/none\n",
      "https://gracedb.ligo.org/api/superevents/S230712a/files/none\n",
      "https://gracedb.ligo.org/api/superevents/S230708bi/files/none\n",
      "https://gracedb.ligo.org/api/superevents/S230622ba/files/none\n"
     ]
    }
   ],
   "source": [
    "#the printed urls are retracted events or my function failed to get the correct file\n",
    "\n",
    "gcn_urls = get_gcn_urls (graceids, data)"
   ]
  },
  {
   "cell_type": "code",
   "execution_count": null,
   "metadata": {},
   "outputs": [],
   "source": [
    "#returns event id, skymap bytes, skymap table, prob bns, prob nsbh    \n",
    "\n",
    "params = [get_params(url) for url in gcn_urls]"
   ]
  },
  {
   "cell_type": "code",
   "execution_count": 9,
   "metadata": {},
   "outputs": [
    {
     "name": "stdout",
     "output_type": "stream",
     "text": [
      "3 events with prob > 0.1 for NSBH or BNS: ['S230731an', 'S230627c', 'S230529ay']\n"
     ]
    }
   ],
   "source": [
    "# get subset of mergers that are potential BNS or NSBH\n",
    "\n",
    "ns_events = [i for i in params if i[3] + i[4] > 0.1]\n",
    "ids = [i[0] for i in ns_events] \n",
    "print(f'{len(ns_events)} events with prob > 0.1 for NSBH or BNS: {ids}') "
   ]
  },
  {
   "cell_type": "code",
   "execution_count": 5,
   "metadata": {},
   "outputs": [],
   "source": [
    "# mergers triggered on in the O4a paper (https://arxiv.org/abs/2405.12403)\n",
    "\n",
    "O4a_urls = ['https://gracedb.ligo.org/api/superevents/S230518h/files/S230518h-4-Update.xml,0',\n",
    "            'https://gracedb.ligo.org/api/superevents/S230529ay/files/S230529ay-5-Update.xml,0',\n",
    "            'https://gracedb.ligo.org/api/superevents/S230627c/files/S230627c-4-Update.xml,0',\n",
    "            'https://gracedb.ligo.org/api/superevents/S230731an/files/S230731an-4-Update.xml,0',\n",
    "            'https://gracedb.ligo.org/api/superevents/S231113bw/files/S231113bw-4-Update.xml,0',\n",
    "            ]"
   ]
  },
  {
   "cell_type": "code",
   "execution_count": 6,
   "metadata": {},
   "outputs": [],
   "source": [
    "O4a_params = [get_params(url) for url in O4a_urls]"
   ]
  },
  {
   "cell_type": "code",
   "execution_count": 37,
   "metadata": {},
   "outputs": [],
   "source": [
    "skymaps = [param[2] for param in O4a_params]"
   ]
  },
  {
   "cell_type": "markdown",
   "metadata": {},
   "source": [
    "# My volume calculation"
   ]
  },
  {
   "cell_type": "code",
   "execution_count": null,
   "metadata": {},
   "outputs": [],
   "source": [
    "# get volume per pixel in 90% region of given skymap\n",
    "\n",
    "#to do - \n",
    "# work in redshift not dl ?\n",
    "# for cvs, get subset of volume that contains galactic plane\n",
    "# look at stats: total volume, avg volume per pixel, max volume, min volume   "
   ]
  },
  {
   "cell_type": "code",
   "execution_count": 29,
   "metadata": {},
   "outputs": [],
   "source": [
    "# adapted from https://github.com/lpsinger/ligo.skymap/blob/a8da314dcb078f7866f4178cbd523b9844cceae0/ligo/skymap/postprocess/crossmatch.py\n",
    "\n",
    "def get_skymap_voxels(param, contour=0.9, cosmology=True):\n",
    "    \"\"\"\n",
    "    Determine the volume per pixel in the 90% region of a skymap\n",
    "    This volume is associated with a sky position and can be used with positionally nonuniform rates\n",
    "    \"\"\"\n",
    "    # get specified countour of skymap, drop other pixels\n",
    "    skymap = param[2]\n",
    "    skymap.sort('PROBDENSITY', reverse = True)\n",
    "    level, ipix = ah.uniq_to_level_ipix(skymap['UNIQ']) # ipix = sky location\n",
    "    nside = ah.level_to_nside(level) # nside = multi-order pixel resolution\n",
    "    pixel_area = ah.nside_to_pixel_area(ah.level_to_nside(level)) # pixel area in steradians\n",
    "    prob = pixel_area * skymap['PROBDENSITY']\n",
    "    cumprob = np.cumsum(prob)\n",
    "    i = cumprob.searchsorted(contour)\n",
    "    dA_sr = pixel_area[:i]\n",
    "    dA_deg = dA_sr.to_value(u.deg**2) #areas in deg**2 per pixel for only pixels in countour\n",
    "    #convert dA to mpc^2 ?\n",
    "\n",
    "    # Calculate volume of each voxel, defined as the region within the\n",
    "    # HEALPix pixel and contained within the two centric spherical shells\n",
    "    # with radii (r - d_r / 2) and (r + d_r / 2).\n",
    "    # r = 500 #mpc\n",
    "    # d_r = 1000 #mpc\n",
    "    # dV = (np.square(r) + np.square(d_r) / 12) * d_r * dA_deg.reshape(-1, 1) #naive euclidean volume from LIGO code\n",
    "\n",
    "    # replacing above with my own Voxel - multiply volume of sphere radius 1000Mpc by fraction of pixel steradians / 4pi steradians in a sphere\n",
    "    r = 1000 #mpc\n",
    "    dV = 4/3 * np.pi * r**3 * dA_sr.reshape(-1, 1)/(4 * np.pi * u.sr) #euclidean volume\n",
    "\n",
    "    # Calculate probability density per unit volume.\n",
    "    if cosmology:\n",
    "        dV *= dVC_dVL_for_DL(r) #comoving volume\n",
    "    \n",
    "    V = np.sum(dV)\n",
    "\n",
    "    print(f'{param[0]} has total volume: {V} Mpc3') \n",
    "    return V, dV"
   ]
  },
  {
   "cell_type": "code",
   "execution_count": 30,
   "metadata": {},
   "outputs": [
    {
     "name": "stdout",
     "output_type": "stream",
     "text": [
      "S230518h has total volume: 23146839.76344147 Mpc3\n",
      "S230529ay has total volume: 1234160364.733098 Mpc3\n",
      "S230627c has total volume: 4097930.0219590287 Mpc3\n",
      "S230731an has total volume: 30102502.05441636 Mpc3\n",
      "S231113bw has total volume: 86159440.48744766 Mpc3\n"
     ]
    }
   ],
   "source": [
    "voxels = [get_skymap_voxels(param) for param in O4a_params]"
   ]
  },
  {
   "cell_type": "code",
   "execution_count": 26,
   "metadata": {},
   "outputs": [
    {
     "name": "stdout",
     "output_type": "stream",
     "text": [
      "S230518h has total volume: 46722498.16435014 Mpc3\n",
      "S230529ay has total volume: 2491184799.5262804 Mpc3\n",
      "S230627c has total volume: 8271778.34578611 Mpc3\n",
      "S230731an has total volume: 60762683.431247875 Mpc3\n",
      "S231113bw has total volume: 173915071.8265345 Mpc3\n"
     ]
    }
   ],
   "source": [
    "# check euclidean volumes to validate assumption comoving volume is necessary at these redshifts\n",
    "\n",
    "voxels_euc = [get_skymap_voxels(param, cosmology=False) for param in O4a_params]"
   ]
  },
  {
   "cell_type": "markdown",
   "metadata": {},
   "source": [
    "# get rates from volumes\n",
    "\n",
    "add : poisson sampled distribution"
   ]
  },
  {
   "cell_type": "code",
   "execution_count": 34,
   "metadata": {},
   "outputs": [],
   "source": [
    "transient_rates = {\n",
    "    'SNIa': 2.35e4,  # per Gpc^3 per year\n",
    "    'CCSN': 1.01e5,\n",
    "    'SLSN': 5.6,\n",
    "    'KN': 5e3,\n",
    "    'GRB_on_axis': 1,\n",
    "    'GRB_off_axis': 7,\n",
    "    'CV': 1e6,  # Use a refined rate near the galactic plane\n",
    "}"
   ]
  },
  {
   "cell_type": "code",
   "execution_count": 98,
   "metadata": {},
   "outputs": [],
   "source": [
    "# probability density function for radii of events evenly distributed in sphere\n",
    "def pdf_radii(num_events, sphere_radius = 1000):\n",
    "    \"\"\"\n",
    "    Sample radii for events evenly distributed in a sphere.\n",
    "    \"\"\"\n",
    "    u = np.random.uniform(0, 1, num_events)\n",
    "    radii = sphere_radius * np.cbrt(u)  # Inverse transform sampling for r^2 PDF\n",
    "    return radii\n",
    "\n",
    "# get ras and decs\n",
    "def random_ra_dec_skymap(num_events, skymap, contour=0.9):\n",
    "    \"\"\"\n",
    "    Given skymap and number of events, return random ra, dec positions in 90% region\n",
    "    \"\"\"\n",
    "    skymap.sort('PROBDENSITY', reverse = True)\n",
    "    level, ipix = ah.uniq_to_level_ipix(skymap['UNIQ']) # ipix = sky location\n",
    "    nside = ah.level_to_nside(level) # nside = multi-order pixel resolution\n",
    "    pixel_area = ah.nside_to_pixel_area(ah.level_to_nside(level)) # pixel area in steradians\n",
    "    prob = pixel_area * skymap['PROBDENSITY']\n",
    "    cumprob = np.cumsum(prob)\n",
    "    i = cumprob.searchsorted(contour)\n",
    "\n",
    "    #get ra and dec in degrees associated with each pixel\n",
    "    # fix this, temporarily only taking discrete ra and dec associated with each pixel\n",
    "    ra, dec = ah.healpix_to_lonlat(ipix[:i], nside[:i])\n",
    "    skymap_ra_deg = [r.deg for r in ra]\n",
    "    skymap_dec_deg = [d.deg for d in dec]\n",
    "    ras = np.random.choice(skymap_ra_deg, num_events)\n",
    "    decs = np.random.choice(skymap_dec_deg, num_events)\n",
    "    return ras, decs\n",
    "\n",
    "# get rates for each transient given a skymap\n",
    "def get_rates(transient_rates, voxel, time_window=7):\n",
    "    num_events = []\n",
    "    volume = voxel[0] * 10**-9 # convert to Gpc^3\n",
    "    for transient, rate in transient_rates.items():\n",
    "        events = rate * volume * time_window / 365.25\n",
    "        num_events.append(float(events))\n",
    "\n",
    "    print(f'{list(transient_rates.keys())} : {num_events}')\n",
    "    return num_events"
   ]
  },
  {
   "cell_type": "code",
   "execution_count": 114,
   "metadata": {},
   "outputs": [],
   "source": [
    "test = random_ra_dec_skymap(10, skymaps[0])"
   ]
  },
  {
   "cell_type": "code",
   "execution_count": 99,
   "metadata": {},
   "outputs": [
    {
     "name": "stdout",
     "output_type": "stream",
     "text": [
      "['SNIa', 'CCSN', 'SLSN', 'KN', 'GRB_on_axis', 'GRB_off_axis', 'CV'] : [10.424791625150231, 44.80442358043291, 0.0024842056638655872, 2.21804077130856, 0.000443608154261712, 0.003105257079831984, 443.608154261712]\n",
      "['SNIa', 'CCSN', 'SLSN', 'KN', 'GRB_on_axis', 'GRB_off_axis', 'CV'] : [555.8367693322235, 2388.9154767044497, 0.13245471950044474, 118.26314241111139, 0.023652628482222278, 0.16556839937555595, 23652.628482222277]\n",
      "['SNIa', 'CCSN', 'SLSN', 'KN', 'GRB_on_axis', 'GRB_off_axis', 'CV'] : [1.845611194010295, 7.932201301916587, 0.0004398052207003256, 0.3926832327681478, 7.853664655362957e-05, 0.000549756525875407, 78.53664655362957]\n",
      "['SNIa', 'CCSN', 'SLSN', 'KN', 'GRB_on_axis', 'GRB_off_axis', 'CV'] : [13.55745814634221, 58.26822437364098, 0.0032307134306177173, 2.884565563051534, 0.0005769131126103067, 0.004038391788272147, 576.9131126103067]\n",
      "['SNIa', 'CCSN', 'SLSN', 'KN', 'GRB_on_axis', 'GRB_off_axis', 'CV'] : [38.8041833269956, 166.77542621389597, 0.009246954324730865, 8.256209218509701, 0.00165124184370194, 0.01155869290591358, 1651.2418437019405]\n"
     ]
    }
   ],
   "source": [
    "rates = [get_rates(transient_rates, voxel, time_window=7) for voxel in voxels]"
   ]
  },
  {
   "cell_type": "code",
   "execution_count": 106,
   "metadata": {},
   "outputs": [],
   "source": [
    "def full_sample(transient_rates,voxel,skymap,time_window=7):\n",
    "    \"\"\"\n",
    "    get sample of transients \n",
    "    \n",
    "    Parameters:\n",
    "    transient_rates: dictionary of transient types and rates in Gpc^3 / year\n",
    "    voxels: list of tuples containing volume, volume per pixel, ra, dec for a given skymap\n",
    "    skymap: table containing skymap data\n",
    "    time_window: time window in days to calculate expected transients\n",
    "\n",
    "    returns: \n",
    "    number of expected transients for each transient type, with sampled ra, dec, and distance (change this to redshift)\n",
    "    \"\"\"\n",
    "\n",
    "    # get number of events for each transient type  \n",
    "    num_events = get_rates(transient_rates, voxel, time_window)\n",
    "    int_events = [round(num) for num in num_events]\n",
    "\n",
    "    # sample ra and dec for each transients types\n",
    "    radec = [random_ra_dec_skymap(num, skymap) for num in int_events]\n",
    "\n",
    "    # get distances in Mpc from sphere with radius 1000Mpc\n",
    "    dists = [pdf_radii(num) for num in int_events]\n",
    "    \n",
    "    return(num_events, radec, dists)"
   ]
  },
  {
   "cell_type": "code",
   "execution_count": 107,
   "metadata": {},
   "outputs": [
    {
     "name": "stdout",
     "output_type": "stream",
     "text": [
      "getting sample for S230518h\n",
      "['SNIa', 'CCSN', 'SLSN', 'KN', 'GRB_on_axis', 'GRB_off_axis', 'CV'] : [10.424791625150231, 44.80442358043291, 0.0024842056638655872, 2.21804077130856, 0.000443608154261712, 0.003105257079831984, 443.608154261712]\n"
     ]
    }
   ],
   "source": [
    "index = 0\n",
    "print(f'getting sample for {O4a_params[index][0]}')\n",
    "event0 = full_sample(transient_rates, voxels[index], skymaps[index], time_window=7)"
   ]
  },
  {
   "cell_type": "code",
   "execution_count": null,
   "metadata": {},
   "outputs": [],
   "source": [
    "# next steps: add galactic latitude consideration to rates\n",
    "\n",
    "#plot\n"
   ]
  }
 ],
 "metadata": {
  "kernelspec": {
   "display_name": "Python 3",
   "language": "python",
   "name": "python3"
  },
  "language_info": {
   "codemirror_mode": {
    "name": "ipython",
    "version": 3
   },
   "file_extension": ".py",
   "mimetype": "text/x-python",
   "name": "python",
   "nbconvert_exporter": "python",
   "pygments_lexer": "ipython3",
   "version": "3.12.3"
  }
 },
 "nbformat": 4,
 "nbformat_minor": 2
}
