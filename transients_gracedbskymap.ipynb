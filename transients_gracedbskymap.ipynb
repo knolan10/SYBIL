{
 "cells": [
  {
   "cell_type": "code",
   "execution_count": 3,
   "metadata": {},
   "outputs": [],
   "source": [
    "import numpy as np\n",
    "import matplotlib.pyplot as plt\n",
    "import healpy as hp\n",
    "from io import BytesIO\n",
    "import xmltodict\n",
    "import requests\n",
    "\n",
    "from astropy.table import Table\n",
    "from astropy.table import QTable\n",
    "import astropy_healpix as ah\n",
    "import astropy.units as u\n",
    "from ligo.skymap.io import read_sky_map\n",
    "\n",
    "from ligo.gracedb.rest import GraceDb\n",
    "g = GraceDb()"
   ]
  },
  {
   "cell_type": "markdown",
   "metadata": {},
   "source": [
    "# O4a events"
   ]
  },
  {
   "cell_type": "code",
   "execution_count": 4,
   "metadata": {},
   "outputs": [
    {
     "name": "stdout",
     "output_type": "stream",
     "text": [
      "89 significant superevents in O4a\n"
     ]
    }
   ],
   "source": [
    "# use gracedb api call to get O4a significant superevents, but some of these have been retracted.\n",
    "\n",
    "event_iterator = g.superevents('runid: O4a SIGNIF_LOCKED')\n",
    "graceids = [superevent['superevent_id'] for superevent in event_iterator]\n",
    "\n",
    "print (len(graceids), 'significant superevents in O4a')"
   ]
  },
  {
   "cell_type": "code",
   "execution_count": 5,
   "metadata": {},
   "outputs": [],
   "source": [
    "responses = [g.superevent(id) for id in graceids]\n",
    "data = [r.json() for r in responses]"
   ]
  },
  {
   "cell_type": "code",
   "execution_count": 30,
   "metadata": {},
   "outputs": [],
   "source": [
    "def get_gcn_urls (ids, files):\n",
    "    \"\"\"\n",
    "    remove retracted events\n",
    "    get the most recent file for each superevent\n",
    "    \"\"\" \n",
    "\n",
    "    superevent_files = [i['links']['files'] for i in files]\n",
    "\n",
    "    event_files = [g.files(graceid).json() for graceid in ids]\n",
    "\n",
    "    file = ['none' if any('etraction' in s for s in list(files))\n",
    "            else id+'-5-Update.xml,0' if id+'-5-Update.xml,0' in list(files)\n",
    "            else id+'-5-Update.xml' if id+'-5-Update.xml' in list(files)\n",
    "            else id+'-4-Update.xml,0' if id+'-4-Update.xml,0' in list(files)\n",
    "            else id+'-4-Update.xml' if id+'-4-Update.xml' in list(files)\n",
    "            else id+'-3-Update.xml,0' if id+'-3-Update.xml,0' in list(files)\n",
    "            else id+'-2-Update.xml,0' if id+'-2-Update.xml,0' in list(files)\n",
    "            else id+'-4-Initial.xml,0' if id+'-4-Initial.xml,0' in list(files) \n",
    "            else id+'-3-Initial.xml,0' if id+'-3-Initial.xml,0' in list(files)\n",
    "            else id+'-2-Initial.xml,0' if id+'-2-Initial.xml,0' in list(files)\n",
    "            else id+'-2-Preliminary.xml,0' if id+'-2-Preliminary.xml,0' in list(files)\n",
    "            else 'none' for files, id in zip(event_files, graceids)]\n",
    "\n",
    "    urls = [i+j for i,j in zip(superevent_files, file)]\n",
    "\n",
    "    [print(x) for x in urls if \"none\" in x]\n",
    "    urls_save = [x for x in urls if \"none\" not in x]\n",
    "    \n",
    "    return(urls_save)\n",
    "\n",
    "def get_params(xml_urls):\n",
    "    \"\"\"\n",
    "    get superevent_id and skymap from event files\n",
    "    \"\"\"\n",
    "\n",
    "    try:\n",
    "        response = requests.get(xml_urls)\n",
    "        dict=xmltodict.parse(response.text)\n",
    "        superevent_id  = [item['@value'] for item in dict['voe:VOEvent']['What']['Param'] if item.get('@name') == 'GraceID'][0]\n",
    "        skymap_url = [item['Param']['@value'] for item in dict['voe:VOEvent']['What']['Group'] if item.get('@name') == 'GW_SKYMAP'][0]\n",
    "        classification = [item for item in dict['voe:VOEvent']['What']['Group'] if item.get('@name') == 'Classification']\n",
    "        prob_bns = float([item['@value'] for item in classification[0]['Param'] if item.get('@name') == 'BNS'][0])  \n",
    "        prob_nsbh = float([item['@value'] for item in classification[0]['Param'] if item.get('@name') == 'NSBH'][0])  \n",
    "        skymap_response = requests.get(skymap_url)\n",
    "        skymap_bytes = skymap_response.content\n",
    "        skymap = Table.read(BytesIO(skymap_bytes))\n",
    "        return superevent_id, skymap_bytes, skymap, prob_bns, prob_nsbh\n",
    "    \n",
    "    except:\n",
    "        print (xml_urls)"
   ]
  },
  {
   "cell_type": "code",
   "execution_count": 7,
   "metadata": {},
   "outputs": [
    {
     "name": "stdout",
     "output_type": "stream",
     "text": [
      "https://gracedb.ligo.org/api/superevents/S231112ag/files/none\n",
      "https://gracedb.ligo.org/api/superevents/S230830b/files/none\n",
      "https://gracedb.ligo.org/api/superevents/S230808i/files/none\n",
      "https://gracedb.ligo.org/api/superevents/S230715bw/files/none\n",
      "https://gracedb.ligo.org/api/superevents/S230712a/files/none\n",
      "https://gracedb.ligo.org/api/superevents/S230708bi/files/none\n",
      "https://gracedb.ligo.org/api/superevents/S230622ba/files/none\n"
     ]
    }
   ],
   "source": [
    "#the printed urls are retracted events or my function failed to get the correct file\n",
    "\n",
    "gcn_urls = get_gcn_urls (graceids, data)"
   ]
  },
  {
   "cell_type": "code",
   "execution_count": 8,
   "metadata": {},
   "outputs": [],
   "source": [
    "#returns event id, skymap table, prob bns, prob nsbh    \n",
    "\n",
    "params = [get_params(url) for url in gcn_urls]"
   ]
  },
  {
   "cell_type": "code",
   "execution_count": 9,
   "metadata": {},
   "outputs": [
    {
     "name": "stdout",
     "output_type": "stream",
     "text": [
      "3 events with prob > 0.1 for NSBH or BNS: ['S230731an', 'S230627c', 'S230529ay']\n"
     ]
    }
   ],
   "source": [
    "# get subset of mergers that are potential BNS or NSBH\n",
    "\n",
    "ns_events = [i for i in params if i[3] + i[4] > 0.1]\n",
    "ids = [i[0] for i in ns_events] \n",
    "print(f'{len(ns_events)} events with prob > 0.1 for NSBH or BNS: {ids}') "
   ]
  },
  {
   "cell_type": "code",
   "execution_count": 10,
   "metadata": {},
   "outputs": [],
   "source": [
    "# mergers triggered on in the O4a paper (https://arxiv.org/abs/2405.12403)\n",
    "\n",
    "O4a_urls = ['https://gracedb.ligo.org/api/superevents/S230518h/files/S230518h-4-Update.xml,0',\n",
    "            'https://gracedb.ligo.org/api/superevents/S230529ay/files/S230529ay-5-Update.xml,0',\n",
    "            'https://gracedb.ligo.org/api/superevents/S230627c/files/S230627c-4-Update.xml,0',\n",
    "            'https://gracedb.ligo.org/api/superevents/S230731an/files/S230731an-4-Update.xml,0',\n",
    "            'https://gracedb.ligo.org/api/superevents/S231113bw/files/S231113bw-4-Update.xml,0',\n",
    "            ]"
   ]
  },
  {
   "cell_type": "code",
   "execution_count": 38,
   "metadata": {},
   "outputs": [],
   "source": [
    "O4a_params = [get_params(url) for url in O4a_urls]"
   ]
  },
  {
   "cell_type": "code",
   "execution_count": 33,
   "metadata": {},
   "outputs": [],
   "source": [
    "skymap = O4a_params[0][2]\n",
    "skymap_bytes = BytesIO(O4a_params[0][1])"
   ]
  },
  {
   "cell_type": "code",
   "execution_count": 34,
   "metadata": {},
   "outputs": [],
   "source": [
    "m, meta = read_sky_map(skymap_bytes)"
   ]
  },
  {
   "cell_type": "markdown",
   "metadata": {},
   "source": [
    "# natalya's rates calculation"
   ]
  },
  {
   "cell_type": "code",
   "execution_count": 40,
   "metadata": {},
   "outputs": [],
   "source": [
    "def calculate_sky_area_90_percent(skymap, skymap_bytes, target_probability=0.1):\n",
    "    m, meta = read_sky_map(skymap_bytes)\n",
    "    #skymap = Table.read(skymap_file)\n",
    "    \n",
    "    nside = meta.get('nside', hp.get_nside(m))\n",
    "    \n",
    "    sorted_indices = np.argsort(m)[::-1]\n",
    "    sorted_prob_density = m[sorted_indices]\n",
    "    cumulative_prob = np.cumsum(sorted_prob_density)\n",
    "    \n",
    "    index_target_percent = np.where(cumulative_prob >= target_probability)[0][0]\n",
    "    pixels_in_target_percent = sorted_indices[:index_target_percent+1]\n",
    "    \n",
    "    theta, phi = hp.pix2ang(nside, pixels_in_target_percent)\n",
    "    ra_deg = np.degrees(phi)\n",
    "    dec_deg = np.degrees(0.5 * np.pi - theta)\n",
    "    \n",
    "    uniq_values = skymap['UNIQ']\n",
    "    \n",
    "    level, ipix = ah.uniq_to_level_ipix(uniq_values)\n",
    "    nside_sky = ah.level_to_nside(level)\n",
    "    ra_sky, dec_sky = ah.healpix_to_lonlat(ipix, nside_sky, order='nested')\n",
    "    \n",
    "    matched_indices = []\n",
    "    for ra, dec in zip(ra_deg, dec_deg):\n",
    "        matched = np.where((np.abs(ra_sky.deg - ra) < 1e-6) & (np.abs(dec_sky.deg - dec) < 1e-6))[0]\n",
    "        if len(matched) > 0:\n",
    "            matched_indices.extend(matched)\n",
    "    \n",
    "    skymap_pixels_in_target_percent = skymap[matched_indices]\n",
    "    \n",
    "    pixel_area = hp.nside2pixarea(nside)\n",
    "    total_area_target_percent = len(pixels_in_target_percent) * pixel_area\n",
    "    total_area_target_percent_deg2 = total_area_target_percent * (180 / np.pi)**2\n",
    "    \n",
    "    plot_skymap_with_90_percent_region(m, nside, pixels_in_target_percent)\n",
    "    \n",
    "    return total_area_target_percent_deg2, skymap_pixels_in_target_percent, nside\n",
    "\n",
    "def calculate_pixel_volumes(skymap, skymap_bytes, target_probability=0.1):\n",
    "    m, meta = read_sky_map(skymap_bytes)\n",
    "    #skymap = Table.read(skymap_file)\n",
    "    \n",
    "    nside = meta.get('nside', hp.get_nside(m))\n",
    "    \n",
    "    sorted_indices = np.argsort(m)[::-1]\n",
    "    sorted_prob_density = m[sorted_indices]\n",
    "    cumulative_prob = np.cumsum(sorted_prob_density)\n",
    "    \n",
    "    index_target_percent = np.where(cumulative_prob >= target_probability)[0][0]\n",
    "    pixels_in_target_percent = sorted_indices[:index_target_percent+1]\n",
    "    \n",
    "    theta, phi = hp.pix2ang(nside, pixels_in_target_percent)\n",
    "    ra_deg = np.degrees(phi)\n",
    "    dec_deg = np.degrees(0.5 * np.pi - theta)\n",
    "    \n",
    "    level, ipix = ah.uniq_to_level_ipix(skymap['UNIQ'])\n",
    "    nside_sky = ah.level_to_nside(level)\n",
    "    ra_sky, dec_sky = ah.healpix_to_lonlat(ipix, nside_sky, order='nested')\n",
    "    \n",
    "    matched_indices = []\n",
    "    for ra, dec in zip(ra_deg, dec_deg):\n",
    "        matched = np.where((np.abs(ra_sky.deg - ra) < 1e-6) & (np.abs(dec_sky.deg - dec) < 1e-6))[0]\n",
    "        if len(matched) > 0:\n",
    "            matched_indices.extend(matched)\n",
    "    \n",
    "    matched_indices = np.array(matched_indices)\n",
    "    \n",
    "    volumes = np.zeros(len(matched_indices))\n",
    "    \n",
    "     # Loop over each matched pixel to calculate volumes\n",
    "    for i, idx in enumerate(matched_indices):\n",
    "        pixel_area_deg2 =  hp.nside2pixarea(nside, degrees=True)\n",
    "        #Convert square degrees to square arcseconds\n",
    "        area_arcsec2 = pixel_area_deg2 * (3600**2)\n",
    "        #Convert square arcseconds to square parsecs using the conversion factor\n",
    "        area_pc2 = area_arcsec2 / (0.2679**2)\n",
    "        #Convert square parsecs to square megaparsecs (Mpc^2)\n",
    "        area_mpc2 = area_pc2 / 10**12\n",
    "        \n",
    "        dist = 1000\n",
    "        # Calculate the volume for this pixel\n",
    "        volumes[i] = (area_mpc2 * dist)*10e-9    # Gpc^3\n",
    "    \n",
    "    # Create a structured array to store pixel index, volume, and corresponding distances\n",
    "    pixel_volumes = np.zeros(len(matched_indices), dtype=[('pixel_index', int), ('volume_Gpc3', float)])\n",
    "    pixel_volumes['pixel_index'] = matched_indices\n",
    "    pixel_volumes['volume_Gpc3'] = volumes\n",
    "\n",
    "    return pixel_volumes\n",
    "\n",
    "def calculate_expected_transients_poisson(volumes, transients_rates, time_window_days=2):\n",
    "    total_expected_transients = {transient: 0 for transient in transients_rates}\n",
    "    time_window_years = time_window_days / 365.25\n",
    "    \n",
    "    for volume in volumes:\n",
    "        for transient, rate in transients_rates.items():\n",
    "            T = time_window_years\n",
    "            expected_events = rate * volume * T\n",
    "            \n",
    "            sampled_events = np.random.poisson(expected_events)\n",
    "            total_expected_transients[transient] += sampled_events\n",
    "    \n",
    "    return total_expected_transients\n",
    "\n",
    "def plot_skymap_with_90_percent_region(m, nside, pixels_in_target_percent):\n",
    "    theta, phi = hp.pix2ang(nside, np.arange(len(m)))\n",
    "    ra_rad = phi\n",
    "    dec_rad = 0.5 * np.pi - theta\n",
    "\n",
    "    ra_rad = ra_rad - np.pi\n",
    "\n",
    "    theta_90, phi_90 = hp.pix2ang(nside, pixels_in_target_percent)\n",
    "    ra_90 = phi_90 - np.pi\n",
    "    dec_90 = 0.5 * np.pi - theta_90\n",
    "    \n",
    "    fig = plt.figure(figsize=(10, 5))\n",
    "    ax = fig.add_subplot(111, projection='aitoff')\n",
    "    ax.grid(True)\n",
    "\n",
    "    sc = ax.scatter(ra_rad, dec_rad, c=m, s=5, cmap='Reds', alpha=0.7, linewidth=0)\n",
    "\n",
    "    ax.scatter(ra_90, dec_90, color='blue', marker='o', s=2, label='90% Probability Region')\n",
    "\n",
    "    cbar = plt.colorbar(sc, ax=ax, orientation=\"horizontal\", fraction=0.06, pad=0.1)\n",
    "    cbar.set_label('Probability Density')\n",
    "\n",
    "    plt.title(\"Skymap in Aitoff Projection with 90% Region\")\n",
    "    plt.legend(loc=1)\n",
    "    plt.show()\n",
    "    "
   ]
  },
  {
   "cell_type": "code",
   "execution_count": 51,
   "metadata": {},
   "outputs": [],
   "source": [
    "def get_transients (gwevent):\n",
    "    \"\"\"\n",
    "    predict contaminant rates given a skymap\n",
    "    \"\"\"\n",
    "    print(f\"Calculating expected transients for event {gwevent[0]}\")\n",
    "    skymap_bytes = BytesIO(gwevent[1])\n",
    "    skymap = gwevent[2]\n",
    "\n",
    "    transients_rates = {\n",
    "        'SNIa': 2.35e4,  # per Gpc^3 per year\n",
    "        'CCSN': 1.01e5,\n",
    "        'SLSN': 5.6,\n",
    "        'KN': 5e3,\n",
    "        'GRB_on_axis': 1,\n",
    "        'GRB_off_axis': 7,\n",
    "        'CV': 1e6,  # Use a refined rate near the galactic plane\n",
    "    }\n",
    "\n",
    "    # Calculate volumes for the 90% area\n",
    "    pixel_volumes_in_90_percent = calculate_pixel_volumes(skymap, skymap_bytes, target_probability=0.1)\n",
    "\n",
    "    # Run multiple simulations\n",
    "    num_simulations = 10\n",
    "    all_simulations = {transient: [] for transient in transients_rates}\n",
    "\n",
    "    time_window_days = 200  # Define the time window\n",
    "\n",
    "    for _ in range(num_simulations):\n",
    "        # Calculate expected transients in the 90% probability region with time window integration\n",
    "        total_expected_transients = calculate_expected_transients_poisson(pixel_volumes_in_90_percent['volume_Gpc3'], transients_rates, time_window_days)\n",
    "        \n",
    "        # Store the results of each simulation\n",
    "        for transient, count in total_expected_transients.items():\n",
    "            all_simulations[transient].append(count)\n",
    "\n",
    "    # Calculate mean and standard deviation for each transient type\n",
    "    mean_transients = {transient: np.mean(all_simulations[transient]) for transient in transients_rates}\n",
    "    std_transients = {transient: np.std(all_simulations[transient]) for transient in transients_rates}\n",
    "\n",
    "    # Print the results\n",
    "    print(f'Mean and standard deviation of sampled transients over {time_window_days} days with {num_simulations} simulations:')\n",
    "    for transient in transients_rates:\n",
    "        print(f\"{transient}: Mean = {mean_transients[transient]:.15f}, Std = {std_transients[transient]:.15f}\")"
   ]
  },
  {
   "cell_type": "code",
   "execution_count": 52,
   "metadata": {},
   "outputs": [
    {
     "name": "stdout",
     "output_type": "stream",
     "text": [
      "Calculating expected transients for event S230518h\n",
      "Mean and standard deviation of sampled transients over 200 days with 10 simulations:\n",
      "SNIa: Mean = 0.000000000000000, Std = 0.000000000000000\n",
      "CCSN: Mean = 0.000000000000000, Std = 0.000000000000000\n",
      "SLSN: Mean = 0.000000000000000, Std = 0.000000000000000\n",
      "KN: Mean = 0.000000000000000, Std = 0.000000000000000\n",
      "GRB_on_axis: Mean = 0.000000000000000, Std = 0.000000000000000\n",
      "GRB_off_axis: Mean = 0.000000000000000, Std = 0.000000000000000\n",
      "CV: Mean = 0.000000000000000, Std = 0.000000000000000\n"
     ]
    }
   ],
   "source": [
    "get_transients(O4a_params[0])"
   ]
  },
  {
   "cell_type": "code",
   "execution_count": 53,
   "metadata": {},
   "outputs": [
    {
     "name": "stdout",
     "output_type": "stream",
     "text": [
      "Calculating expected transients for event S230529ay\n",
      "Mean and standard deviation of sampled transients over 200 days with 10 simulations:\n",
      "SNIa: Mean = 0.000000000000000, Std = 0.000000000000000\n",
      "CCSN: Mean = 0.000000000000000, Std = 0.000000000000000\n",
      "SLSN: Mean = 0.000000000000000, Std = 0.000000000000000\n",
      "KN: Mean = 0.000000000000000, Std = 0.000000000000000\n",
      "GRB_on_axis: Mean = 0.000000000000000, Std = 0.000000000000000\n",
      "GRB_off_axis: Mean = 0.000000000000000, Std = 0.000000000000000\n",
      "CV: Mean = 1.500000000000000, Std = 1.360147050873544\n"
     ]
    }
   ],
   "source": [
    "get_transients(O4a_params[1])"
   ]
  },
  {
   "cell_type": "code",
   "execution_count": 54,
   "metadata": {},
   "outputs": [
    {
     "name": "stdout",
     "output_type": "stream",
     "text": [
      "Calculating expected transients for event S230627c\n",
      "Mean and standard deviation of sampled transients over 200 days with 10 simulations:\n",
      "SNIa: Mean = 0.000000000000000, Std = 0.000000000000000\n",
      "CCSN: Mean = 0.000000000000000, Std = 0.000000000000000\n",
      "SLSN: Mean = 0.000000000000000, Std = 0.000000000000000\n",
      "KN: Mean = 0.000000000000000, Std = 0.000000000000000\n",
      "GRB_on_axis: Mean = 0.000000000000000, Std = 0.000000000000000\n",
      "GRB_off_axis: Mean = 0.000000000000000, Std = 0.000000000000000\n",
      "CV: Mean = 0.000000000000000, Std = 0.000000000000000\n"
     ]
    }
   ],
   "source": [
    "get_transients(O4a_params[2])"
   ]
  },
  {
   "cell_type": "code",
   "execution_count": 55,
   "metadata": {},
   "outputs": [
    {
     "name": "stdout",
     "output_type": "stream",
     "text": [
      "Calculating expected transients for event S230731an\n",
      "Mean and standard deviation of sampled transients over 200 days with 10 simulations:\n",
      "SNIa: Mean = 0.000000000000000, Std = 0.000000000000000\n",
      "CCSN: Mean = 0.000000000000000, Std = 0.000000000000000\n",
      "SLSN: Mean = 0.000000000000000, Std = 0.000000000000000\n",
      "KN: Mean = 0.000000000000000, Std = 0.000000000000000\n",
      "GRB_on_axis: Mean = 0.000000000000000, Std = 0.000000000000000\n",
      "GRB_off_axis: Mean = 0.000000000000000, Std = 0.000000000000000\n",
      "CV: Mean = 0.000000000000000, Std = 0.000000000000000\n"
     ]
    }
   ],
   "source": [
    "get_transients(O4a_params[3])"
   ]
  },
  {
   "cell_type": "code",
   "execution_count": 56,
   "metadata": {},
   "outputs": [
    {
     "name": "stdout",
     "output_type": "stream",
     "text": [
      "Calculating expected transients for event S231113bw\n",
      "Mean and standard deviation of sampled transients over 200 days with 10 simulations:\n",
      "SNIa: Mean = 0.000000000000000, Std = 0.000000000000000\n",
      "CCSN: Mean = 0.000000000000000, Std = 0.000000000000000\n",
      "SLSN: Mean = 0.000000000000000, Std = 0.000000000000000\n",
      "KN: Mean = 0.000000000000000, Std = 0.000000000000000\n",
      "GRB_on_axis: Mean = 0.000000000000000, Std = 0.000000000000000\n",
      "GRB_off_axis: Mean = 0.000000000000000, Std = 0.000000000000000\n",
      "CV: Mean = 0.100000000000000, Std = 0.300000000000000\n"
     ]
    }
   ],
   "source": [
    "get_transients(O4a_params[4])"
   ]
  },
  {
   "cell_type": "code",
   "execution_count": null,
   "metadata": {},
   "outputs": [],
   "source": []
  }
 ],
 "metadata": {
  "kernelspec": {
   "display_name": "Python 3",
   "language": "python",
   "name": "python3"
  },
  "language_info": {
   "codemirror_mode": {
    "name": "ipython",
    "version": 3
   },
   "file_extension": ".py",
   "mimetype": "text/x-python",
   "name": "python",
   "nbconvert_exporter": "python",
   "pygments_lexer": "ipython3",
   "version": "3.12.3"
  }
 },
 "nbformat": 4,
 "nbformat_minor": 2
}
